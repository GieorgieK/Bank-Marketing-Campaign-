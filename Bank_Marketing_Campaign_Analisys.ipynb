{
 "cells": [
  {
   "attachments": {},
   "cell_type": "markdown",
   "metadata": {},
   "source": [
    "# Bank Marketing Campaign Analysis\n",
    "#### By : Gieorgie Kharismatik Kosasih"
   ]
  },
  {
   "attachments": {},
   "cell_type": "markdown",
   "metadata": {},
   "source": [
    "## Business Problem Understanding\n",
    "\n",
    "### Context \n",
    "Jenis produk keuangan yang digunakan masyarakat lebih bervariasi. Salah satu produk keuangan yang cukup dikenal masyarakat adalah term deposit atau deposito berjangka. Mekanisme term deposit adalah nasabah menyimpan sejumlah uang di bank atau lembaga keuangan, dan uang tersebut hanya dapat ditarik setelah jangka waktu tertentu. Sebagai kompensasinya, nasabah akan diberikan bunga tetap sesuai dengan nominal uang yang disetorkan.\n",
    "\n",
    "Namun demikian, sebagai badan usaha dengan produk keuangan dan nasabahnya masing-masing, bank tetap harus bersaing agar tidak kehilangan nasabah. Salah satu cara untuk mendapatkan pelanggan baru adalah dengan melakukan Marketing Camapaign.\n",
    "\n",
    "Target :\n",
    "\n",
    "0 : Tidak menabung deposito\n",
    "\n",
    "1 : Menabung deposito\n"
   ]
  },
  {
   "attachments": {},
   "cell_type": "markdown",
   "metadata": {},
   "source": [
    "#### Pernyataan masalah \n",
    "Proses marketing produk bank dalam hal ini Deposito dapat memakan waktu dan menyebabkan biaya marketing membengkak jika perusahaan melakukan cara pendekatan yang sama kepada setiap nasabah yang ada. Tentu perusahaan ingin menigkatkan nasabah yang menggunakan deposito akan tetapi jika pendekatan yang dilakukan kepada setiap nasabah sama akan memakan waktu dan biaya sehingga keuntungan yang di hasilkan tidak maksimal atau dengan kata lain efisiensi marketing sangat buruk \n",
    "\n",
    "Oleh karena itu perusahaan ingin adanya kemampuan untuk memprediksi nasabah yang berpotensial "
   ]
  },
  {
   "attachments": {},
   "cell_type": "markdown",
   "metadata": {},
   "source": [
    "#### Goals :\n",
    "Berdasarkan pernyatan di atas perusahaan ingin memanfaatkan data yang ada untuk dapat memiliki kemampuan naasabah mana yang akan melakukan deposit sehingga dapat melakukan pendekatan yang lebih baik"
   ]
  },
  {
   "attachments": {},
   "cell_type": "markdown",
   "metadata": {},
   "source": [
    "#### Analtic Approach :\n",
    "Untuk dapat mencapai tujuan tersebut kita akan memanfaatkan data yang ada untuk di analisa dan menemukan pola nasabah yang melakukan deposit atau tidak\n",
    "kemudian membangun model klasifikasi yang dapat berguna bagi perusahaan untuk menemukan nasabah potensial"
   ]
  },
  {
   "attachments": {},
   "cell_type": "markdown",
   "metadata": {},
   "source": [
    "#### Metric Evaluation\n",
    "Type 1 error : False Positive (Nasabah yang aktualnya tidak menabung deposito tetapi terprediksi ingin menabung deposito)\n",
    "Konsekuensi: kerugian biaya dalam telemarketing, serta jika nasabah di lakukan pendekatan terus menerus akan membuat nasabah menjadi tidak nyaman\n",
    "\n",
    "Type 2 error : False Negative (Nasabah yang aktualnya ingin menabung deposito tetapi terprediksi tidak ingin menabung deposito)\n",
    "konsekuensi:  kehilangan nasabah potensial yang ingin menabung deposit\n",
    "\n",
    "Berdasarkan konsekuensinya, maka semaksimal mungkin yang kita lakukan adalah membuat model yang mengurangi False Negatif serta dapat memberikan probabilitas yang membantu divisi marketing bank untuk lebih baik dalam menentukan nasabah yang akan di dekati.\n",
    "Metrik utama yang akan digunakan dalam membantu menyelesaikan masalah ini adalah Recall "
   ]
  },
  {
   "attachments": {},
   "cell_type": "markdown",
   "metadata": {},
   "source": [
    "## Data Understanding"
   ]
  },
  {
   "cell_type": "code",
   "execution_count": 357,
   "metadata": {},
   "outputs": [],
   "source": [
    "# Library\n",
    "\n",
    "import pandas as pd\n",
    "import numpy as np\n",
    "\n",
    "# Visualization\n",
    "import matplotlib.pyplot as plt\n",
    "import seaborn as sns\n",
    "import missingno as msno\n",
    "from IPython.display import display\n",
    "\n",
    "# Feature Engineering\n",
    "from sklearn.pipeline import Pipeline\n",
    "from sklearn.impute import SimpleImputer\n",
    "from sklearn.preprocessing import OneHotEncoder, OrdinalEncoder\n",
    "from sklearn.compose import ColumnTransformer\n",
    "import category_encoders as ce\n",
    "\n",
    "# Model Selection\n",
    "from sklearn.linear_model import LogisticRegression\n",
    "from sklearn.tree import DecisionTreeClassifier\n",
    "from sklearn.model_selection import GridSearchCV,StratifiedKFold, train_test_split, cross_val_score\n",
    "from sklearn.metrics import classification_report, confusion_matrix, ConfusionMatrixDisplay\n",
    "from sklearn.neighbors import KNeighborsClassifier\n",
    "from sklearn.ensemble import RandomForestClassifier\n",
    "from xgboost import XGBClassifier\n",
    "from sklearn.metrics import f1_score, accuracy_score, recall_score, precision_score\n",
    "\n",
    "# Imbalance Dataset\n",
    "from imblearn.pipeline import Pipeline\n",
    "from imblearn.over_sampling import RandomOverSampler\n",
    "\n",
    "# Ignore Warning\n",
    "import sys\n",
    "import warnings\n",
    "if not sys.warnoptions:\n",
    "    warnings.simplefilter(\"ignore\")\n"
   ]
  },
  {
   "attachments": {},
   "cell_type": "markdown",
   "metadata": {},
   "source": [
    "### Kolom yang terdapat pada data set \n",
    "\n",
    "\n",
    "**Informasi demografi nasabah**\n",
    "\n",
    "| Attribute | Data Type | Description |\n",
    "| --- | --- | --- | \n",
    "|Age |Integer | age of client |\n",
    "|Job |Text | type of job  |\n",
    "|Housing |Text | has housing loan? |\n",
    "|Loan |Text | has personal loan? |\n",
    "\n",
    "**Informasi terkait campaign saat ini**\n",
    "\n",
    "| Attribute | Data Type | Description |\n",
    "| --- | --- | --- | \n",
    "|Contact |Text | contact communication type  |\n",
    "|Month |Text | last contact month of year  |\n",
    "|Campaign |Integer | number of contacts performed during this campaign and for this client |\n",
    "\n",
    "**Informasi terkait campaign sebelumnya**\n",
    "\n",
    "| Attribute | Data Type | Description |\n",
    "| --- | --- | --- | \n",
    "|Pdays |Integer | pdays: number of days that passed by after the client was last contacted from a previous campaign |\n",
    "|Poutcome |Text | poutcome: outcome of the previous marketing campaign  |\n",
    "\n",
    "**Target**\n",
    "\n",
    "| Attribute | Data Type | Description |\n",
    "| --- | --- | --- | \n",
    "|Deposit |Text | has the client subscribed a term deposit? |"
   ]
  },
  {
   "cell_type": "code",
   "execution_count": 358,
   "metadata": {},
   "outputs": [
    {
     "data": {
      "text/html": [
       "<div>\n",
       "<style scoped>\n",
       "    .dataframe tbody tr th:only-of-type {\n",
       "        vertical-align: middle;\n",
       "    }\n",
       "\n",
       "    .dataframe tbody tr th {\n",
       "        vertical-align: top;\n",
       "    }\n",
       "\n",
       "    .dataframe thead th {\n",
       "        text-align: right;\n",
       "    }\n",
       "</style>\n",
       "<table border=\"1\" class=\"dataframe\">\n",
       "  <thead>\n",
       "    <tr style=\"text-align: right;\">\n",
       "      <th></th>\n",
       "      <th>age</th>\n",
       "      <th>job</th>\n",
       "      <th>balance</th>\n",
       "      <th>housing</th>\n",
       "      <th>loan</th>\n",
       "      <th>contact</th>\n",
       "      <th>month</th>\n",
       "      <th>campaign</th>\n",
       "      <th>pdays</th>\n",
       "      <th>poutcome</th>\n",
       "      <th>deposit</th>\n",
       "    </tr>\n",
       "  </thead>\n",
       "  <tbody>\n",
       "    <tr>\n",
       "      <th>0</th>\n",
       "      <td>55</td>\n",
       "      <td>admin.</td>\n",
       "      <td>1662</td>\n",
       "      <td>no</td>\n",
       "      <td>no</td>\n",
       "      <td>cellular</td>\n",
       "      <td>jun</td>\n",
       "      <td>2</td>\n",
       "      <td>-1</td>\n",
       "      <td>unknown</td>\n",
       "      <td>yes</td>\n",
       "    </tr>\n",
       "    <tr>\n",
       "      <th>1</th>\n",
       "      <td>39</td>\n",
       "      <td>self-employed</td>\n",
       "      <td>-3058</td>\n",
       "      <td>yes</td>\n",
       "      <td>yes</td>\n",
       "      <td>cellular</td>\n",
       "      <td>apr</td>\n",
       "      <td>3</td>\n",
       "      <td>-1</td>\n",
       "      <td>unknown</td>\n",
       "      <td>yes</td>\n",
       "    </tr>\n",
       "    <tr>\n",
       "      <th>2</th>\n",
       "      <td>51</td>\n",
       "      <td>admin.</td>\n",
       "      <td>3025</td>\n",
       "      <td>no</td>\n",
       "      <td>no</td>\n",
       "      <td>cellular</td>\n",
       "      <td>may</td>\n",
       "      <td>1</td>\n",
       "      <td>352</td>\n",
       "      <td>other</td>\n",
       "      <td>yes</td>\n",
       "    </tr>\n",
       "    <tr>\n",
       "      <th>3</th>\n",
       "      <td>38</td>\n",
       "      <td>services</td>\n",
       "      <td>-87</td>\n",
       "      <td>yes</td>\n",
       "      <td>no</td>\n",
       "      <td>cellular</td>\n",
       "      <td>may</td>\n",
       "      <td>1</td>\n",
       "      <td>-1</td>\n",
       "      <td>unknown</td>\n",
       "      <td>no</td>\n",
       "    </tr>\n",
       "    <tr>\n",
       "      <th>4</th>\n",
       "      <td>36</td>\n",
       "      <td>housemaid</td>\n",
       "      <td>205</td>\n",
       "      <td>yes</td>\n",
       "      <td>no</td>\n",
       "      <td>telephone</td>\n",
       "      <td>nov</td>\n",
       "      <td>4</td>\n",
       "      <td>-1</td>\n",
       "      <td>unknown</td>\n",
       "      <td>no</td>\n",
       "    </tr>\n",
       "  </tbody>\n",
       "</table>\n",
       "</div>"
      ],
      "text/plain": [
       "   age            job  balance housing loan    contact month  campaign  pdays  \\\n",
       "0   55         admin.     1662      no   no   cellular   jun         2     -1   \n",
       "1   39  self-employed    -3058     yes  yes   cellular   apr         3     -1   \n",
       "2   51         admin.     3025      no   no   cellular   may         1    352   \n",
       "3   38       services      -87     yes   no   cellular   may         1     -1   \n",
       "4   36      housemaid      205     yes   no  telephone   nov         4     -1   \n",
       "\n",
       "  poutcome deposit  \n",
       "0  unknown     yes  \n",
       "1  unknown     yes  \n",
       "2    other     yes  \n",
       "3  unknown      no  \n",
       "4  unknown      no  "
      ]
     },
     "execution_count": 358,
     "metadata": {},
     "output_type": "execute_result"
    }
   ],
   "source": [
    "df = pd.read_csv('data_bank_marketing_campaign.csv')\n",
    "df.head()"
   ]
  },
  {
   "attachments": {},
   "cell_type": "markdown",
   "metadata": {},
   "source": [
    "Mari kita liat informasi singkat yang terdapat dalam data set"
   ]
  },
  {
   "cell_type": "code",
   "execution_count": 359,
   "metadata": {},
   "outputs": [
    {
     "name": "stdout",
     "output_type": "stream",
     "text": [
      "Pada data terdapat jumlah baris dan kolom : (7813, 11)\n",
      "<class 'pandas.core.frame.DataFrame'>\n",
      "RangeIndex: 7813 entries, 0 to 7812\n",
      "Data columns (total 11 columns):\n",
      " #   Column    Non-Null Count  Dtype \n",
      "---  ------    --------------  ----- \n",
      " 0   age       7813 non-null   int64 \n",
      " 1   job       7813 non-null   object\n",
      " 2   balance   7813 non-null   int64 \n",
      " 3   housing   7813 non-null   object\n",
      " 4   loan      7813 non-null   object\n",
      " 5   contact   7813 non-null   object\n",
      " 6   month     7813 non-null   object\n",
      " 7   campaign  7813 non-null   int64 \n",
      " 8   pdays     7813 non-null   int64 \n",
      " 9   poutcome  7813 non-null   object\n",
      " 10  deposit   7813 non-null   object\n",
      "dtypes: int64(4), object(7)\n",
      "memory usage: 671.6+ KB\n"
     ]
    }
   ],
   "source": [
    "print('Pada data terdapat jumlah baris dan kolom :',df.shape)\n",
    "df.info()"
   ]
  },
  {
   "cell_type": "code",
   "execution_count": 360,
   "metadata": {},
   "outputs": [
    {
     "data": {
      "text/html": [
       "<div>\n",
       "<style scoped>\n",
       "    .dataframe tbody tr th:only-of-type {\n",
       "        vertical-align: middle;\n",
       "    }\n",
       "\n",
       "    .dataframe tbody tr th {\n",
       "        vertical-align: top;\n",
       "    }\n",
       "\n",
       "    .dataframe thead th {\n",
       "        text-align: right;\n",
       "    }\n",
       "</style>\n",
       "<table border=\"1\" class=\"dataframe\">\n",
       "  <thead>\n",
       "    <tr style=\"text-align: right;\">\n",
       "      <th></th>\n",
       "      <th>age</th>\n",
       "      <th>balance</th>\n",
       "      <th>campaign</th>\n",
       "      <th>pdays</th>\n",
       "    </tr>\n",
       "  </thead>\n",
       "  <tbody>\n",
       "    <tr>\n",
       "      <th>count</th>\n",
       "      <td>7813.000000</td>\n",
       "      <td>7813.000000</td>\n",
       "      <td>7813.000000</td>\n",
       "      <td>7813.000000</td>\n",
       "    </tr>\n",
       "    <tr>\n",
       "      <th>mean</th>\n",
       "      <td>41.257264</td>\n",
       "      <td>1512.448611</td>\n",
       "      <td>2.519775</td>\n",
       "      <td>51.408550</td>\n",
       "    </tr>\n",
       "    <tr>\n",
       "      <th>std</th>\n",
       "      <td>11.919710</td>\n",
       "      <td>3089.291831</td>\n",
       "      <td>2.727001</td>\n",
       "      <td>108.072739</td>\n",
       "    </tr>\n",
       "    <tr>\n",
       "      <th>min</th>\n",
       "      <td>18.000000</td>\n",
       "      <td>-6847.000000</td>\n",
       "      <td>1.000000</td>\n",
       "      <td>-1.000000</td>\n",
       "    </tr>\n",
       "    <tr>\n",
       "      <th>25%</th>\n",
       "      <td>32.000000</td>\n",
       "      <td>127.000000</td>\n",
       "      <td>1.000000</td>\n",
       "      <td>-1.000000</td>\n",
       "    </tr>\n",
       "    <tr>\n",
       "      <th>50%</th>\n",
       "      <td>39.000000</td>\n",
       "      <td>549.000000</td>\n",
       "      <td>2.000000</td>\n",
       "      <td>-1.000000</td>\n",
       "    </tr>\n",
       "    <tr>\n",
       "      <th>75%</th>\n",
       "      <td>49.000000</td>\n",
       "      <td>1684.000000</td>\n",
       "      <td>3.000000</td>\n",
       "      <td>40.000000</td>\n",
       "    </tr>\n",
       "    <tr>\n",
       "      <th>max</th>\n",
       "      <td>95.000000</td>\n",
       "      <td>66653.000000</td>\n",
       "      <td>63.000000</td>\n",
       "      <td>854.000000</td>\n",
       "    </tr>\n",
       "  </tbody>\n",
       "</table>\n",
       "</div>"
      ],
      "text/plain": [
       "               age       balance     campaign        pdays\n",
       "count  7813.000000   7813.000000  7813.000000  7813.000000\n",
       "mean     41.257264   1512.448611     2.519775    51.408550\n",
       "std      11.919710   3089.291831     2.727001   108.072739\n",
       "min      18.000000  -6847.000000     1.000000    -1.000000\n",
       "25%      32.000000    127.000000     1.000000    -1.000000\n",
       "50%      39.000000    549.000000     2.000000    -1.000000\n",
       "75%      49.000000   1684.000000     3.000000    40.000000\n",
       "max      95.000000  66653.000000    63.000000   854.000000"
      ]
     },
     "execution_count": 360,
     "metadata": {},
     "output_type": "execute_result"
    }
   ],
   "source": [
    "df.describe()"
   ]
  },
  {
   "attachments": {},
   "cell_type": "markdown",
   "metadata": {},
   "source": [
    "Mari kita cek apakah dalam data set terdapat data kosong "
   ]
  },
  {
   "cell_type": "code",
   "execution_count": 361,
   "metadata": {},
   "outputs": [
    {
     "data": {
      "text/plain": [
       "<AxesSubplot: >"
      ]
     },
     "execution_count": 361,
     "metadata": {},
     "output_type": "execute_result"
    },
    {
     "data": {
      "image/png": "[encoded data removed]",
      "text/plain": [
       "<Figure size 2500x1000 with 2 Axes>"
      ]
     },
     "metadata": {},
     "output_type": "display_data"
    }
   ],
   "source": [
    "msno.matrix(df)"
   ]
  },
  {
   "attachments": {},
   "cell_type": "markdown",
   "metadata": {},
   "source": [
    "Berdasarkan plot di atas tidak ditemukannya data kosong.\n",
    "Sekarang kita lanjutkan untuk mengecek apa ada duplikasi dalam data."
   ]
  },
  {
   "cell_type": "code",
   "execution_count": 362,
   "metadata": {},
   "outputs": [
    {
     "data": {
      "text/html": [
       "<div>\n",
       "<style scoped>\n",
       "    .dataframe tbody tr th:only-of-type {\n",
       "        vertical-align: middle;\n",
       "    }\n",
       "\n",
       "    .dataframe tbody tr th {\n",
       "        vertical-align: top;\n",
       "    }\n",
       "\n",
       "    .dataframe thead th {\n",
       "        text-align: right;\n",
       "    }\n",
       "</style>\n",
       "<table border=\"1\" class=\"dataframe\">\n",
       "  <thead>\n",
       "    <tr style=\"text-align: right;\">\n",
       "      <th></th>\n",
       "      <th>age</th>\n",
       "      <th>job</th>\n",
       "      <th>balance</th>\n",
       "      <th>housing</th>\n",
       "      <th>loan</th>\n",
       "      <th>contact</th>\n",
       "      <th>month</th>\n",
       "      <th>campaign</th>\n",
       "      <th>pdays</th>\n",
       "      <th>poutcome</th>\n",
       "      <th>deposit</th>\n",
       "    </tr>\n",
       "  </thead>\n",
       "  <tbody>\n",
       "    <tr>\n",
       "      <th>2944</th>\n",
       "      <td>40</td>\n",
       "      <td>blue-collar</td>\n",
       "      <td>0</td>\n",
       "      <td>yes</td>\n",
       "      <td>no</td>\n",
       "      <td>unknown</td>\n",
       "      <td>may</td>\n",
       "      <td>2</td>\n",
       "      <td>-1</td>\n",
       "      <td>unknown</td>\n",
       "      <td>no</td>\n",
       "    </tr>\n",
       "    <tr>\n",
       "      <th>4368</th>\n",
       "      <td>60</td>\n",
       "      <td>management</td>\n",
       "      <td>0</td>\n",
       "      <td>no</td>\n",
       "      <td>no</td>\n",
       "      <td>cellular</td>\n",
       "      <td>aug</td>\n",
       "      <td>3</td>\n",
       "      <td>-1</td>\n",
       "      <td>unknown</td>\n",
       "      <td>yes</td>\n",
       "    </tr>\n",
       "    <tr>\n",
       "      <th>4874</th>\n",
       "      <td>41</td>\n",
       "      <td>management</td>\n",
       "      <td>0</td>\n",
       "      <td>no</td>\n",
       "      <td>no</td>\n",
       "      <td>cellular</td>\n",
       "      <td>aug</td>\n",
       "      <td>2</td>\n",
       "      <td>-1</td>\n",
       "      <td>unknown</td>\n",
       "      <td>no</td>\n",
       "    </tr>\n",
       "    <tr>\n",
       "      <th>5326</th>\n",
       "      <td>44</td>\n",
       "      <td>blue-collar</td>\n",
       "      <td>0</td>\n",
       "      <td>yes</td>\n",
       "      <td>no</td>\n",
       "      <td>cellular</td>\n",
       "      <td>jul</td>\n",
       "      <td>1</td>\n",
       "      <td>-1</td>\n",
       "      <td>unknown</td>\n",
       "      <td>no</td>\n",
       "    </tr>\n",
       "    <tr>\n",
       "      <th>5609</th>\n",
       "      <td>39</td>\n",
       "      <td>technician</td>\n",
       "      <td>0</td>\n",
       "      <td>yes</td>\n",
       "      <td>no</td>\n",
       "      <td>unknown</td>\n",
       "      <td>may</td>\n",
       "      <td>1</td>\n",
       "      <td>-1</td>\n",
       "      <td>unknown</td>\n",
       "      <td>no</td>\n",
       "    </tr>\n",
       "    <tr>\n",
       "      <th>5681</th>\n",
       "      <td>38</td>\n",
       "      <td>technician</td>\n",
       "      <td>0</td>\n",
       "      <td>no</td>\n",
       "      <td>no</td>\n",
       "      <td>cellular</td>\n",
       "      <td>aug</td>\n",
       "      <td>2</td>\n",
       "      <td>-1</td>\n",
       "      <td>unknown</td>\n",
       "      <td>no</td>\n",
       "    </tr>\n",
       "    <tr>\n",
       "      <th>5905</th>\n",
       "      <td>34</td>\n",
       "      <td>management</td>\n",
       "      <td>0</td>\n",
       "      <td>no</td>\n",
       "      <td>no</td>\n",
       "      <td>cellular</td>\n",
       "      <td>aug</td>\n",
       "      <td>2</td>\n",
       "      <td>-1</td>\n",
       "      <td>unknown</td>\n",
       "      <td>no</td>\n",
       "    </tr>\n",
       "    <tr>\n",
       "      <th>7077</th>\n",
       "      <td>30</td>\n",
       "      <td>blue-collar</td>\n",
       "      <td>239</td>\n",
       "      <td>yes</td>\n",
       "      <td>no</td>\n",
       "      <td>unknown</td>\n",
       "      <td>may</td>\n",
       "      <td>1</td>\n",
       "      <td>-1</td>\n",
       "      <td>unknown</td>\n",
       "      <td>yes</td>\n",
       "    </tr>\n",
       "  </tbody>\n",
       "</table>\n",
       "</div>"
      ],
      "text/plain": [
       "      age          job  balance housing loan   contact month  campaign  pdays  \\\n",
       "2944   40  blue-collar        0     yes   no   unknown   may         2     -1   \n",
       "4368   60   management        0      no   no  cellular   aug         3     -1   \n",
       "4874   41   management        0      no   no  cellular   aug         2     -1   \n",
       "5326   44  blue-collar        0     yes   no  cellular   jul         1     -1   \n",
       "5609   39   technician        0     yes   no   unknown   may         1     -1   \n",
       "5681   38   technician        0      no   no  cellular   aug         2     -1   \n",
       "5905   34   management        0      no   no  cellular   aug         2     -1   \n",
       "7077   30  blue-collar      239     yes   no   unknown   may         1     -1   \n",
       "\n",
       "     poutcome deposit  \n",
       "2944  unknown      no  \n",
       "4368  unknown     yes  \n",
       "4874  unknown      no  \n",
       "5326  unknown      no  \n",
       "5609  unknown      no  \n",
       "5681  unknown      no  \n",
       "5905  unknown      no  \n",
       "7077  unknown     yes  "
      ]
     },
     "execution_count": 362,
     "metadata": {},
     "output_type": "execute_result"
    }
   ],
   "source": [
    "df[df.duplicated()] "
   ]
  },
  {
   "attachments": {},
   "cell_type": "markdown",
   "metadata": {},
   "source": [
    "Terdapat duplikasi dalam data.\n",
    "Duplikasi yang kita temukan sebenarnya bisa saja tidak di buang mengingat tidak ada label data pembeda dari setiap nasabah. Tapi karena duplikasi yang di temukan hanya sedikit penulis akan memlih untuk membuang duplikasi data tersebut"
   ]
  },
  {
   "cell_type": "code",
   "execution_count": 363,
   "metadata": {},
   "outputs": [],
   "source": [
    "df.drop_duplicates(inplace=True)"
   ]
  },
  {
   "attachments": {},
   "cell_type": "markdown",
   "metadata": {},
   "source": [
    "Sekarang kita akan melakukan check setiap value yang terdapat di kolom dataset untuk lebih memahami data"
   ]
  },
  {
   "cell_type": "code",
   "execution_count": 364,
   "metadata": {},
   "outputs": [
    {
     "data": {
      "text/html": [
       "<div>\n",
       "<style scoped>\n",
       "    .dataframe tbody tr th:only-of-type {\n",
       "        vertical-align: middle;\n",
       "    }\n",
       "\n",
       "    .dataframe tbody tr th {\n",
       "        vertical-align: top;\n",
       "    }\n",
       "\n",
       "    .dataframe thead th {\n",
       "        text-align: right;\n",
       "    }\n",
       "</style>\n",
       "<table border=\"1\" class=\"dataframe\">\n",
       "  <thead>\n",
       "    <tr style=\"text-align: right;\">\n",
       "      <th></th>\n",
       "      <th>Fitur</th>\n",
       "      <th>DataType</th>\n",
       "      <th>JumlahValue</th>\n",
       "      <th>UniqueValue</th>\n",
       "    </tr>\n",
       "  </thead>\n",
       "  <tbody>\n",
       "    <tr>\n",
       "      <th>0</th>\n",
       "      <td>age</td>\n",
       "      <td>int64</td>\n",
       "      <td>75</td>\n",
       "      <td>[55, 39, 51, 38, 36, 41, 37, 35, 57, 23, 33, 3...</td>\n",
       "    </tr>\n",
       "    <tr>\n",
       "      <th>1</th>\n",
       "      <td>job</td>\n",
       "      <td>object</td>\n",
       "      <td>12</td>\n",
       "      <td>[admin., self-employed, services, housemaid, t...</td>\n",
       "    </tr>\n",
       "    <tr>\n",
       "      <th>2</th>\n",
       "      <td>balance</td>\n",
       "      <td>int64</td>\n",
       "      <td>3153</td>\n",
       "      <td>[1662, -3058, 3025, -87, 205, -76, 4803, 911, ...</td>\n",
       "    </tr>\n",
       "    <tr>\n",
       "      <th>3</th>\n",
       "      <td>housing</td>\n",
       "      <td>object</td>\n",
       "      <td>2</td>\n",
       "      <td>[no, yes]</td>\n",
       "    </tr>\n",
       "    <tr>\n",
       "      <th>4</th>\n",
       "      <td>loan</td>\n",
       "      <td>object</td>\n",
       "      <td>2</td>\n",
       "      <td>[no, yes]</td>\n",
       "    </tr>\n",
       "    <tr>\n",
       "      <th>5</th>\n",
       "      <td>contact</td>\n",
       "      <td>object</td>\n",
       "      <td>3</td>\n",
       "      <td>[cellular, telephone, unknown]</td>\n",
       "    </tr>\n",
       "    <tr>\n",
       "      <th>6</th>\n",
       "      <td>month</td>\n",
       "      <td>object</td>\n",
       "      <td>12</td>\n",
       "      <td>[jun, apr, may, nov, jan, sep, feb, mar, aug, ...</td>\n",
       "    </tr>\n",
       "    <tr>\n",
       "      <th>7</th>\n",
       "      <td>campaign</td>\n",
       "      <td>int64</td>\n",
       "      <td>32</td>\n",
       "      <td>[2, 3, 1, 4, 5, 6, 7, 30, 8, 9, 11, 14, 10, 28...</td>\n",
       "    </tr>\n",
       "    <tr>\n",
       "      <th>8</th>\n",
       "      <td>pdays</td>\n",
       "      <td>int64</td>\n",
       "      <td>422</td>\n",
       "      <td>[-1, 352, 21, 91, 186, 263, 96, 355, 294, 412,...</td>\n",
       "    </tr>\n",
       "    <tr>\n",
       "      <th>9</th>\n",
       "      <td>poutcome</td>\n",
       "      <td>object</td>\n",
       "      <td>4</td>\n",
       "      <td>[unknown, other, failure, success]</td>\n",
       "    </tr>\n",
       "    <tr>\n",
       "      <th>10</th>\n",
       "      <td>deposit</td>\n",
       "      <td>object</td>\n",
       "      <td>2</td>\n",
       "      <td>[yes, no]</td>\n",
       "    </tr>\n",
       "  </tbody>\n",
       "</table>\n",
       "</div>"
      ],
      "text/plain": [
       "       Fitur DataType  JumlahValue  \\\n",
       "0        age    int64           75   \n",
       "1        job   object           12   \n",
       "2    balance    int64         3153   \n",
       "3    housing   object            2   \n",
       "4       loan   object            2   \n",
       "5    contact   object            3   \n",
       "6      month   object           12   \n",
       "7   campaign    int64           32   \n",
       "8      pdays    int64          422   \n",
       "9   poutcome   object            4   \n",
       "10   deposit   object            2   \n",
       "\n",
       "                                          UniqueValue  \n",
       "0   [55, 39, 51, 38, 36, 41, 37, 35, 57, 23, 33, 3...  \n",
       "1   [admin., self-employed, services, housemaid, t...  \n",
       "2   [1662, -3058, 3025, -87, 205, -76, 4803, 911, ...  \n",
       "3                                           [no, yes]  \n",
       "4                                           [no, yes]  \n",
       "5                      [cellular, telephone, unknown]  \n",
       "6   [jun, apr, may, nov, jan, sep, feb, mar, aug, ...  \n",
       "7   [2, 3, 1, 4, 5, 6, 7, 30, 8, 9, 11, 14, 10, 28...  \n",
       "8   [-1, 352, 21, 91, 186, 263, 96, 355, 294, 412,...  \n",
       "9                  [unknown, other, failure, success]  \n",
       "10                                          [yes, no]  "
      ]
     },
     "execution_count": 364,
     "metadata": {},
     "output_type": "execute_result"
    }
   ],
   "source": [
    "val =[]\n",
    "for col in df.columns :\n",
    "    val.append([col,df[col].dtype,df[col].nunique(),list(df[col].drop_duplicates().values)])\n",
    "\n",
    "dfunique = pd.DataFrame(columns=['Fitur','DataType','JumlahValue', 'UniqueValue'],data=val)\n",
    "dfunique"
   ]
  },
  {
   "attachments": {},
   "cell_type": "markdown",
   "metadata": {},
   "source": [
    "Berdasarkan tabel di atas di dapat informasi:\n",
    "1. Pada kolom pdays ada value (-1) pdays adalah jumlah hari sejak terakir dihubungi pada kampanye sebelumnya berarti (-1) menandakan customer tidak di hubungi \n",
    "2. Pada kolom job, contact, dan poutcome ada value unknown kita akan mengecek setiap kolom tersebut"
   ]
  },
  {
   "cell_type": "code",
   "execution_count": 365,
   "metadata": {},
   "outputs": [
    {
     "data": {
      "text/plain": [
       "-1      5809\n",
       " 92       80\n",
       " 91       62\n",
       " 182      61\n",
       " 181      56\n",
       "        ... \n",
       " 375       1\n",
       " 320       1\n",
       " 373       1\n",
       " 24        1\n",
       " 155       1\n",
       "Name: pdays, Length: 422, dtype: int64"
      ]
     },
     "execution_count": 365,
     "metadata": {},
     "output_type": "execute_result"
    }
   ],
   "source": [
    "df['pdays'].value_counts()"
   ]
  },
  {
   "cell_type": "code",
   "execution_count": 366,
   "metadata": {},
   "outputs": [
    {
     "data": {
      "text/plain": [
       "management       1789\n",
       "blue-collar      1343\n",
       "technician       1289\n",
       "admin.            936\n",
       "services          658\n",
       "retired           540\n",
       "self-employed     280\n",
       "unemployed        249\n",
       "student           247\n",
       "entrepreneur      236\n",
       "housemaid         184\n",
       "unknown            54\n",
       "Name: job, dtype: int64"
      ]
     },
     "execution_count": 366,
     "metadata": {},
     "output_type": "execute_result"
    }
   ],
   "source": [
    "df['job'].value_counts()"
   ]
  },
  {
   "attachments": {},
   "cell_type": "markdown",
   "metadata": {},
   "source": [
    "Unknown pada kolom job dapat di artikan jenis perkerjaan lain atau berbeda.\n",
    "kita akan merubah unknown menjadi other"
   ]
  },
  {
   "cell_type": "code",
   "execution_count": 367,
   "metadata": {},
   "outputs": [],
   "source": [
    "df['job'] = df['job'].replace('unknown', 'other')"
   ]
  },
  {
   "cell_type": "code",
   "execution_count": 368,
   "metadata": {},
   "outputs": [
    {
     "data": {
      "text/plain": [
       "cellular     5623\n",
       "unknown      1636\n",
       "telephone     546\n",
       "Name: contact, dtype: int64"
      ]
     },
     "execution_count": 368,
     "metadata": {},
     "output_type": "execute_result"
    }
   ],
   "source": [
    "df['contact'].value_counts()"
   ]
  },
  {
   "attachments": {},
   "cell_type": "markdown",
   "metadata": {},
   "source": [
    "Dalam kolom ini terdapat 2 cara pendekatan pada nasabah\n",
    "Kontak cellular mencakup penggunaan pesan teks, email, pesan instan, dan media sosial untuk berkomunikasi dengan konsumen.\n",
    "Kontak telephone melibatkan peneleponan langsung ke konsumen potensial dan berbicara dengan mereka secara langsung tentang produk dan layanan bank.\n",
    "Maka dapat di artikan unknown adalah nasabah yang tidak di kontak.\n",
    "kita akan merubah unknown menjadi notContacted"
   ]
  },
  {
   "cell_type": "code",
   "execution_count": 369,
   "metadata": {},
   "outputs": [],
   "source": [
    "df['contact'] = df['contact'].replace('unknown', 'notContacted')"
   ]
  },
  {
   "cell_type": "code",
   "execution_count": 370,
   "metadata": {},
   "outputs": [
    {
     "data": {
      "text/plain": [
       "unknown    5811\n",
       "failure     848\n",
       "success     761\n",
       "other       385\n",
       "Name: poutcome, dtype: int64"
      ]
     },
     "execution_count": 370,
     "metadata": {},
     "output_type": "execute_result"
    }
   ],
   "source": [
    "df['poutcome'].value_counts()"
   ]
  },
  {
   "attachments": {},
   "cell_type": "markdown",
   "metadata": {},
   "source": [
    "unknown yang banyak pada poutcome wajar saja terjadi karena keterangan pada kolom pdays customer yang tidak di kontak saja mencapai 5800 orang. jadi dapat didefinisikan unknown pada kolom poutcome adalah customer tidak di hubungi pada kampanye sebelumnya.\n",
    "kita akan merubah unknown menjadi notContacted"
   ]
  },
  {
   "cell_type": "code",
   "execution_count": 371,
   "metadata": {},
   "outputs": [],
   "source": [
    "df['poutcome'] = df['poutcome'].replace('unknown', 'notContacted')"
   ]
  },
  {
   "attachments": {},
   "cell_type": "markdown",
   "metadata": {},
   "source": [
    "Sekarang Kita akan melihat perbandingan jumlah nasabah yang melakukan deposit dan yang tidak, untuk melihat apa terjadi imbalance pada target atau tidak."
   ]
  },
  {
   "cell_type": "code",
   "execution_count": 372,
   "metadata": {},
   "outputs": [
    {
     "data": {
      "text/plain": [
       "no     4075\n",
       "yes    3730\n",
       "Name: deposit, dtype: int64"
      ]
     },
     "execution_count": 372,
     "metadata": {},
     "output_type": "execute_result"
    }
   ],
   "source": [
    "df['deposit'].value_counts()"
   ]
  },
  {
   "cell_type": "code",
   "execution_count": 373,
   "metadata": {},
   "outputs": [
    {
     "data": {
      "image/png": "[encoded data removed]",
      "text/plain": [
       "<Figure size 800x600 with 1 Axes>"
      ]
     },
     "metadata": {},
     "output_type": "display_data"
    }
   ],
   "source": [
    "plt.figure(figsize=(8,6))\n",
    "plt.pie(x=df['deposit'].value_counts(), autopct = '%.2f%%')\n",
    "plt.title('Diagram presentase nasabah yang deposit dan tidak')\n",
    "plt.legend((df['deposit'].value_counts()).index)\n",
    "plt.show()"
   ]
  },
  {
   "attachments": {},
   "cell_type": "markdown",
   "metadata": {},
   "source": [
    "Dapat di lihat dari diagram di atas bahwa nasabah yang melakukan deposit dan tidak masih dapat dibilang balance dengan proporsi 48 : 52 sehingga tidak perlu melakukan treatment untuk menstabilkan data."
   ]
  },
  {
   "attachments": {},
   "cell_type": "markdown",
   "metadata": {},
   "source": [
    "### Outlier"
   ]
  },
  {
   "cell_type": "code",
   "execution_count": 374,
   "metadata": {},
   "outputs": [
    {
     "data": {
      "image/png": "[encoded data removed]",
      "text/plain": [
       "<Figure size 1500x2000 with 4 Axes>"
      ]
     },
     "metadata": {},
     "output_type": "display_data"
    }
   ],
   "source": [
    "plt.figure(figsize=(15,20))\n",
    "plt.subplot(321)\n",
    "sns.boxplot(data=df,x='balance', y='deposit')\n",
    "plt.title('Outlier Saldo Nasabah',fontsize=20)\n",
    "\n",
    "plt.subplot(322)\n",
    "sns.boxplot(data=df, x='campaign', y='deposit')\n",
    "plt.title('Outlier Campaign Perform',fontsize=20)\n",
    "\n",
    "plt.subplot(323)\n",
    "sns.boxplot(data=df, x='pdays', y='deposit')\n",
    "plt.title('Outlier Pdays',fontsize=20)\n",
    "\n",
    "plt.subplot(324)\n",
    "sns.boxplot(data=df, x='age', y='deposit')\n",
    "plt.title('Outlier Umur Nasabah',fontsize=20)\n",
    "\n",
    "plt.show()"
   ]
  },
  {
   "attachments": {},
   "cell_type": "markdown",
   "metadata": {},
   "source": [
    "Dari Diagram di atas didapat adanya outlier di fitur balance, campaign, pdays, dan age. Karena outlier sangat banyak dan berpengaruh dalam target yaitu Deposit maka penulis memutuskan untuk mengabaikan outlier yang ada "
   ]
  },
  {
   "attachments": {},
   "cell_type": "markdown",
   "metadata": {},
   "source": [
    "## Data Preparation"
   ]
  },
  {
   "cell_type": "code",
   "execution_count": 375,
   "metadata": {},
   "outputs": [
    {
     "data": {
      "text/html": [
       "<div>\n",
       "<style scoped>\n",
       "    .dataframe tbody tr th:only-of-type {\n",
       "        vertical-align: middle;\n",
       "    }\n",
       "\n",
       "    .dataframe tbody tr th {\n",
       "        vertical-align: top;\n",
       "    }\n",
       "\n",
       "    .dataframe thead th {\n",
       "        text-align: right;\n",
       "    }\n",
       "</style>\n",
       "<table border=\"1\" class=\"dataframe\">\n",
       "  <thead>\n",
       "    <tr style=\"text-align: right;\">\n",
       "      <th></th>\n",
       "      <th>age</th>\n",
       "      <th>job</th>\n",
       "      <th>balance</th>\n",
       "      <th>housing</th>\n",
       "      <th>loan</th>\n",
       "      <th>contact</th>\n",
       "      <th>month</th>\n",
       "      <th>campaign</th>\n",
       "      <th>pdays</th>\n",
       "      <th>poutcome</th>\n",
       "      <th>deposit</th>\n",
       "    </tr>\n",
       "  </thead>\n",
       "  <tbody>\n",
       "    <tr>\n",
       "      <th>0</th>\n",
       "      <td>55</td>\n",
       "      <td>admin.</td>\n",
       "      <td>1662</td>\n",
       "      <td>no</td>\n",
       "      <td>no</td>\n",
       "      <td>cellular</td>\n",
       "      <td>jun</td>\n",
       "      <td>2</td>\n",
       "      <td>-1</td>\n",
       "      <td>notContacted</td>\n",
       "      <td>yes</td>\n",
       "    </tr>\n",
       "    <tr>\n",
       "      <th>1</th>\n",
       "      <td>39</td>\n",
       "      <td>self-employed</td>\n",
       "      <td>-3058</td>\n",
       "      <td>yes</td>\n",
       "      <td>yes</td>\n",
       "      <td>cellular</td>\n",
       "      <td>apr</td>\n",
       "      <td>3</td>\n",
       "      <td>-1</td>\n",
       "      <td>notContacted</td>\n",
       "      <td>yes</td>\n",
       "    </tr>\n",
       "    <tr>\n",
       "      <th>2</th>\n",
       "      <td>51</td>\n",
       "      <td>admin.</td>\n",
       "      <td>3025</td>\n",
       "      <td>no</td>\n",
       "      <td>no</td>\n",
       "      <td>cellular</td>\n",
       "      <td>may</td>\n",
       "      <td>1</td>\n",
       "      <td>352</td>\n",
       "      <td>other</td>\n",
       "      <td>yes</td>\n",
       "    </tr>\n",
       "    <tr>\n",
       "      <th>3</th>\n",
       "      <td>38</td>\n",
       "      <td>services</td>\n",
       "      <td>-87</td>\n",
       "      <td>yes</td>\n",
       "      <td>no</td>\n",
       "      <td>cellular</td>\n",
       "      <td>may</td>\n",
       "      <td>1</td>\n",
       "      <td>-1</td>\n",
       "      <td>notContacted</td>\n",
       "      <td>no</td>\n",
       "    </tr>\n",
       "    <tr>\n",
       "      <th>4</th>\n",
       "      <td>36</td>\n",
       "      <td>housemaid</td>\n",
       "      <td>205</td>\n",
       "      <td>yes</td>\n",
       "      <td>no</td>\n",
       "      <td>telephone</td>\n",
       "      <td>nov</td>\n",
       "      <td>4</td>\n",
       "      <td>-1</td>\n",
       "      <td>notContacted</td>\n",
       "      <td>no</td>\n",
       "    </tr>\n",
       "  </tbody>\n",
       "</table>\n",
       "</div>"
      ],
      "text/plain": [
       "   age            job  balance housing loan    contact month  campaign  pdays  \\\n",
       "0   55         admin.     1662      no   no   cellular   jun         2     -1   \n",
       "1   39  self-employed    -3058     yes  yes   cellular   apr         3     -1   \n",
       "2   51         admin.     3025      no   no   cellular   may         1    352   \n",
       "3   38       services      -87     yes   no   cellular   may         1     -1   \n",
       "4   36      housemaid      205     yes   no  telephone   nov         4     -1   \n",
       "\n",
       "       poutcome deposit  \n",
       "0  notContacted     yes  \n",
       "1  notContacted     yes  \n",
       "2         other     yes  \n",
       "3  notContacted      no  \n",
       "4  notContacted      no  "
      ]
     },
     "execution_count": 375,
     "metadata": {},
     "output_type": "execute_result"
    }
   ],
   "source": [
    "df.head()"
   ]
  },
  {
   "attachments": {},
   "cell_type": "markdown",
   "metadata": {},
   "source": [
    "Setelah sudah memahami data dan membersihkan data sekarang kita akan melakukan encoding fitur fitur kategorikal yang ada.\n",
    "\n",
    "1. Merubah Fitur Job menggunakan binary encoding. bisa juga menggunakan one hot encoding tapi karena variasi value dari fitur ini banyak penulis memutuskan menggunakan binary encoding\n",
    "2. Merubah fitur housing , loan , Contact dan poutcome menggunakan One Hot Encoding. Karena memiliki variasi value yang tidak berurutan \n",
    "3. Merubah fitur Month menggunakan Ordinal Encoding. Karena value menunjukan bulan dan setiap bulan ada di dalam fitur ini dan memiliki lompatan value yang sama."
   ]
  },
  {
   "cell_type": "code",
   "execution_count": 376,
   "metadata": {},
   "outputs": [],
   "source": [
    "ordinal_mapping = [\n",
    "    {'col':'month',\n",
    "    'mapping':{\n",
    "        'jan' : 0,\n",
    "        'feb' : 1,\n",
    "        'mar' : 2,\n",
    "        'apr' : 3,\n",
    "        'may' : 4,\n",
    "        'jun' : 5,\n",
    "        'jul' : 6,\n",
    "        'aug' : 7,\n",
    "        'sep' : 8,\n",
    "        'oct' : 9,\n",
    "        'nov' : 10,\n",
    "        'dec' : 11,\n",
    "    }}\n",
    "]"
   ]
  },
  {
   "cell_type": "code",
   "execution_count": 377,
   "metadata": {},
   "outputs": [],
   "source": [
    "transformer = ColumnTransformer([\n",
    "    ('onehot', OneHotEncoder(drop='first'), ['loan', 'poutcome', 'housing', 'contact']),\n",
    "    ('ordinal', ce.OrdinalEncoder(mapping= ordinal_mapping), ['month']),\n",
    "    ('binary', ce.BinaryEncoder(), ['job']),\n",
    "], remainder='passthrough')"
   ]
  },
  {
   "cell_type": "code",
   "execution_count": 378,
   "metadata": {},
   "outputs": [],
   "source": [
    "x = df.drop(columns=['deposit'])\n",
    "y = np.where(df['deposit'] == 'yes', 1 ,0)"
   ]
  },
  {
   "cell_type": "code",
   "execution_count": 379,
   "metadata": {},
   "outputs": [],
   "source": [
    "x_train,x_test,y_train,y_test=train_test_split(x,y,stratify=y,test_size=0.2,random_state=2023)"
   ]
  },
  {
   "cell_type": "code",
   "execution_count": 380,
   "metadata": {},
   "outputs": [
    {
     "data": {
      "text/plain": [
       "array([[ 0.000e+00,  0.000e+00,  0.000e+00, ...,  5.230e+02,  1.000e+00,\n",
       "         6.000e+01],\n",
       "       [ 0.000e+00,  1.000e+00,  0.000e+00, ...,  0.000e+00,  2.000e+00,\n",
       "        -1.000e+00],\n",
       "       [ 1.000e+00,  1.000e+00,  0.000e+00, ...,  0.000e+00,  5.000e+00,\n",
       "        -1.000e+00],\n",
       "       ...,\n",
       "       [ 0.000e+00,  0.000e+00,  0.000e+00, ...,  5.140e+02,  6.000e+00,\n",
       "         9.000e+01],\n",
       "       [ 0.000e+00,  1.000e+00,  0.000e+00, ...,  9.750e+02,  2.000e+00,\n",
       "        -1.000e+00],\n",
       "       [ 0.000e+00,  0.000e+00,  0.000e+00, ...,  1.777e+03,  5.000e+00,\n",
       "         1.540e+02]])"
      ]
     },
     "execution_count": 380,
     "metadata": {},
     "output_type": "execute_result"
    }
   ],
   "source": [
    "x_train_preprocessed = transformer.fit_transform(x_train)\n",
    "x_train_preprocessed"
   ]
  },
  {
   "attachments": {},
   "cell_type": "markdown",
   "metadata": {},
   "source": [
    "## Modeling & Evaluation"
   ]
  },
  {
   "attachments": {},
   "cell_type": "markdown",
   "metadata": {},
   "source": [
    "Metric Evaluation yang akan digunakan pada pemodelan ini adalah recall sesuai dengan keperluan bisnis yang ada pada kasus ini.\n",
    "Recall recall mengukur seberapa banyak positive cases (kasus yang seharusnya diidentifikasi sebagai \"yes\" atau \"1\") yang berhasil diidentifikasi dengan benar oleh model. Ketika recall meningkat, artinya model berhasil mengidentifikasi lebih banyak positive cases dengan benar. Hal ini juga berarti jumlah false negative akan menurun, karena model dapat mengidentifikasi lebih banyak positive cases yang seharusnya diidentifikasi sebagai \"yes\" atau \"1\". Sebaliknya, ketika recall rendah, artinya model gagal mengidentifikasi banyak positive cases dan memperlihatkan lebih banyak false negative.\n",
    "Oleh karena itu, recall yang tinggi sangat penting dalam kasus term deposit agar model dapat mengidentifikasi calon pelanggan yang berpotensi tertarik dalam produk term deposit dan menghindari false negative."
   ]
  },
  {
   "cell_type": "code",
   "execution_count": 381,
   "metadata": {},
   "outputs": [],
   "source": [
    "logreg = LogisticRegression()\n",
    "knn = KNeighborsClassifier()\n",
    "dt = DecisionTreeClassifier()\n",
    "rf = RandomForestClassifier()\n",
    "xgb = XGBClassifier()"
   ]
  },
  {
   "attachments": {},
   "cell_type": "markdown",
   "metadata": {},
   "source": [
    "### Model Benchmarking K-fold"
   ]
  },
  {
   "cell_type": "code",
   "execution_count": 382,
   "metadata": {},
   "outputs": [
    {
     "data": {
      "text/html": [
       "<div>\n",
       "<style scoped>\n",
       "    .dataframe tbody tr th:only-of-type {\n",
       "        vertical-align: middle;\n",
       "    }\n",
       "\n",
       "    .dataframe tbody tr th {\n",
       "        vertical-align: top;\n",
       "    }\n",
       "\n",
       "    .dataframe thead th {\n",
       "        text-align: right;\n",
       "    }\n",
       "</style>\n",
       "<table border=\"1\" class=\"dataframe\">\n",
       "  <thead>\n",
       "    <tr style=\"text-align: right;\">\n",
       "      <th></th>\n",
       "      <th>recall</th>\n",
       "      <th>sdev</th>\n",
       "    </tr>\n",
       "    <tr>\n",
       "      <th>model</th>\n",
       "      <th></th>\n",
       "      <th></th>\n",
       "    </tr>\n",
       "  </thead>\n",
       "  <tbody>\n",
       "    <tr>\n",
       "      <th>Random Forest</th>\n",
       "      <td>0.631703</td>\n",
       "      <td>0.010741</td>\n",
       "    </tr>\n",
       "    <tr>\n",
       "      <th>XGBoost</th>\n",
       "      <td>0.623329</td>\n",
       "      <td>0.008449</td>\n",
       "    </tr>\n",
       "    <tr>\n",
       "      <th>Logistic Regression</th>\n",
       "      <td>0.616298</td>\n",
       "      <td>0.018104</td>\n",
       "    </tr>\n",
       "    <tr>\n",
       "      <th>Decision Tree</th>\n",
       "      <td>0.604896</td>\n",
       "      <td>0.009489</td>\n",
       "    </tr>\n",
       "    <tr>\n",
       "      <th>KNN</th>\n",
       "      <td>0.528144</td>\n",
       "      <td>0.016676</td>\n",
       "    </tr>\n",
       "  </tbody>\n",
       "</table>\n",
       "</div>"
      ],
      "text/plain": [
       "                       recall      sdev\n",
       "model                                  \n",
       "Random Forest        0.631703  0.010741\n",
       "XGBoost              0.623329  0.008449\n",
       "Logistic Regression  0.616298  0.018104\n",
       "Decision Tree        0.604896  0.009489\n",
       "KNN                  0.528144  0.016676"
      ]
     },
     "execution_count": 382,
     "metadata": {},
     "output_type": "execute_result"
    }
   ],
   "source": [
    "models = [logreg,knn,dt,rf,xgb]\n",
    "score=[]\n",
    "rata=[]\n",
    "std=[]\n",
    "\n",
    "for i in models:\n",
    "    skfold=StratifiedKFold(n_splits=5)\n",
    "    estimator=Pipeline([\n",
    "        ('preprocess',transformer),\n",
    "        ('model',i)])\n",
    "    model_cv=cross_val_score(estimator,x_train,y_train,cv=skfold,scoring='recall')\n",
    "    score.append(model_cv)\n",
    "    rata.append(model_cv.mean())\n",
    "    std.append(model_cv.std())\n",
    "    \n",
    "pd.DataFrame({'model':['Logistic Regression', 'KNN', 'Decision Tree', 'Random Forest', 'XGBoost'],'recall':rata,'sdev':std}).set_index('model').sort_values(by='recall',ascending=False)"
   ]
  },
  {
   "attachments": {},
   "cell_type": "markdown",
   "metadata": {},
   "source": [
    "Berdasarkan model benchmarking di atas di dapat bahwa model random forest dan xgboost merupakan model yang terbaik jika di lihat dari metrik evaluation Recall.\n",
    "selanjutnya kita akan melihat model mana yang terbaik di test data"
   ]
  },
  {
   "attachments": {},
   "cell_type": "markdown",
   "metadata": {},
   "source": [
    "### Model Benchmarking : Test Data"
   ]
  },
  {
   "cell_type": "code",
   "execution_count": 383,
   "metadata": {},
   "outputs": [
    {
     "name": "stdout",
     "output_type": "stream",
     "text": [
      "Logistic Regression \n",
      "               precision    recall  f1-score   support\n",
      "\n",
      "           0       0.64      0.69      0.66       815\n",
      "           1       0.63      0.58      0.60       746\n",
      "\n",
      "    accuracy                           0.64      1561\n",
      "   macro avg       0.64      0.63      0.63      1561\n",
      "weighted avg       0.64      0.64      0.64      1561\n",
      "\n",
      "KNN \n",
      "               precision    recall  f1-score   support\n",
      "\n",
      "           0       0.60      0.68      0.64       815\n",
      "           1       0.59      0.49      0.54       746\n",
      "\n",
      "    accuracy                           0.59      1561\n",
      "   macro avg       0.59      0.59      0.59      1561\n",
      "weighted avg       0.59      0.59      0.59      1561\n",
      "\n",
      "Decision Tree \n",
      "               precision    recall  f1-score   support\n",
      "\n",
      "           0       0.64      0.67      0.66       815\n",
      "           1       0.62      0.59      0.60       746\n",
      "\n",
      "    accuracy                           0.63      1561\n",
      "   macro avg       0.63      0.63      0.63      1561\n",
      "weighted avg       0.63      0.63      0.63      1561\n",
      "\n",
      "Random Forest \n",
      "               precision    recall  f1-score   support\n",
      "\n",
      "           0       0.68      0.77      0.72       815\n",
      "           1       0.70      0.60      0.65       746\n",
      "\n",
      "    accuracy                           0.69      1561\n",
      "   macro avg       0.69      0.68      0.68      1561\n",
      "weighted avg       0.69      0.69      0.68      1561\n",
      "\n",
      "XGBoost \n",
      "               precision    recall  f1-score   support\n",
      "\n",
      "           0       0.69      0.79      0.74       815\n",
      "           1       0.73      0.62      0.67       746\n",
      "\n",
      "    accuracy                           0.71      1561\n",
      "   macro avg       0.71      0.70      0.70      1561\n",
      "weighted avg       0.71      0.71      0.70      1561\n",
      "\n"
     ]
    }
   ],
   "source": [
    "models = [logreg,knn,dt,rf,xgb]\n",
    "score_roc_auc = []\n",
    "\n",
    "def y_pred_func(i):\n",
    "    estimator=Pipeline([\n",
    "        ('preprocess',transformer),\n",
    "        ('model',i)])\n",
    "    x_train,x_test\n",
    "    \n",
    "    estimator.fit(x_train,y_train)\n",
    "    return(estimator,estimator.predict(x_test),x_test)\n",
    "\n",
    "for i,j in zip(models, ['Logistic Regression', 'KNN', 'Decision Tree', 'Random Forest', 'XGBoost']):\n",
    "    estimator,y_pred,x_test = y_pred_func(i)\n",
    "    y_predict_proba = estimator.predict_proba(x_test)[:,1]\n",
    "    print(j,'\\n', classification_report(y_test,y_pred))\n",
    "    \n"
   ]
  },
  {
   "attachments": {},
   "cell_type": "markdown",
   "metadata": {},
   "source": [
    "Setelah dilakukan modelbenchmarking pada data test di dapat Model XGBoost adalah model terbaik melihat nilai recall yang dihasilkan dari data train dan test sebesar 62 \n",
    "mengapa tidak memilih random forest sebagai model karena terjadi penurunan dari benchmark train data dan benchmark test data jadi penulis memutuskan menggunakan model xgboost.\n",
    "mengapa metrik evaluationnya dipilih recall karena sesuai dengan keperluan bisnis dimana perusahaan ingin meminimalisir False negatif (dimana nasabah yang sebenarnya ingin deposit tapi di deteksi tidak deposit.)"
   ]
  },
  {
   "attachments": {},
   "cell_type": "markdown",
   "metadata": {},
   "source": [
    "## Hyperparameter Tunning\n",
    "\n",
    "XGBoost (Extreme Gradient Boosting) adalah algoritme machine learning yang sangat efektif untuk pemodelan prediktif dan digunakan dalam berbagai kasus, termasuk prediksi untuk produk term deposit. XGBoost adalah pengembangan dari algoritme Gradient Boosting yang menggunakan multiple decision trees untuk membuat model prediktif yang lebih akurat.\n",
    "Dalam kasus term deposit, XGBoost dapat digunakan untuk memprediksi apakah seorang pelanggan tertentu akan berinvestasi dalam produk term deposit atau tidak. XGBoost akan belajar dari data pelanggan yang ada untuk membuat model prediktif yang akurat.\n",
    "XGBoost menggunakan teknik gradient boosting untuk mengoptimalkan multiple decision trees yang digunakan dalam model prediktif. Pada setiap iterasi, XGBoost menambahkan decision tree baru yang fokus pada kasus-kasus yang masih sulit diprediksi oleh model sebelumnya. Kemudian, XGBoost menimbang setiap decision tree berdasarkan kinerjanya dan membuat prediksi akhir berdasarkan gabungan prediksi dari setiap decision tree.\n",
    "\n",
    "XGBoost memiliki default parameter\n",
    "n_estimator = 100 , max_depth = 6, learning_rate = 0.3, colsample_bytree = 1\n",
    "\n",
    "sumber : https://xgboost.readthedocs.io/en/latest/parameter.html\n",
    "\n",
    "learning_rate : Penyusutan ukuran langkah digunakan dalam pembaruan untuk mencegah overfitting\n",
    "\n",
    "max_depth : merupakan batas maksimal kedalaman tree\n",
    "\n",
    "n_estimator : menentukan jumlah decision tree yang akan di bangun pada model semakin tinggi semakin beresiko overfitting\n",
    "\n",
    "colsample_bytree : menentukan proporsi fitur yang akan digunakan dalam membangun decision tree."
   ]
  },
  {
   "cell_type": "code",
   "execution_count": 384,
   "metadata": {},
   "outputs": [],
   "source": [
    "xgb = XGBClassifier()\n",
    "\n",
    "estimator=Pipeline([\n",
    "    ('preprocess',transformer),\n",
    "    ('model',xgb)\n",
    "])"
   ]
  },
  {
   "cell_type": "code",
   "execution_count": 385,
   "metadata": {},
   "outputs": [],
   "source": [
    "hyperparam_space=[{\n",
    "    'model__n_estimators': [100, 200, 250],\n",
    "    'model__max_depth':[6, 4, 7],\n",
    "    'model__learning_rate': [0.3, 0.75, 0.5],\n",
    "    'model__colsample_bytree':[1, 0.5, 0.75]\n",
    "}]"
   ]
  },
  {
   "cell_type": "code",
   "execution_count": 386,
   "metadata": {},
   "outputs": [],
   "source": [
    "grid = GridSearchCV(estimator, \n",
    "n_jobs=-1, \n",
    "param_grid=hyperparam_space, \n",
    "scoring='recall', \n",
    "cv=StratifiedKFold(n_splits=5, shuffle=True, random_state=2023))"
   ]
  },
  {
   "cell_type": "code",
   "execution_count": 387,
   "metadata": {},
   "outputs": [
    {
     "name": "stdout",
     "output_type": "stream",
     "text": [
      "0.6343940058233\n",
      "{'model__colsample_bytree': 1, 'model__learning_rate': 0.5, 'model__max_depth': 6, 'model__n_estimators': 200}\n"
     ]
    }
   ],
   "source": [
    "grid.fit(x_train,y_train)\n",
    "print(grid.best_score_)\n",
    "print(grid.best_params_)\n"
   ]
  },
  {
   "attachments": {},
   "cell_type": "markdown",
   "metadata": {},
   "source": [
    "setelah melakukan tuning didapat parameter yang lebih baik dibanding default ada 2 yaitu 'model__learning_rate': 0.5, 'model__max_depth': 6, 'model__n_estimators': 200 meski kenaikan yang dihasilkan tidak cukup signifikan"
   ]
  },
  {
   "cell_type": "code",
   "execution_count": 388,
   "metadata": {},
   "outputs": [
    {
     "data": {
      "text/html": [
       "<style>#sk-container-id-15 {color: black;background-color: white;}#sk-container-id-15 pre{padding: 0;}#sk-container-id-15 div.sk-toggleable {background-color: white;}#sk-container-id-15 label.sk-toggleable__label {cursor: pointer;display: block;width: 100%;margin-bottom: 0;padding: 0.3em;box-sizing: border-box;text-align: center;}#sk-container-id-15 label.sk-toggleable__label-arrow:before {content: \"▸\";float: left;margin-right: 0.25em;color: #696969;}#sk-container-id-15 label.sk-toggleable__label-arrow:hover:before {color: black;}#sk-container-id-15 div.sk-estimator:hover label.sk-toggleable__label-arrow:before {color: black;}#sk-container-id-15 div.sk-toggleable__content {max-height: 0;max-width: 0;overflow: hidden;text-align: left;background-color: #f0f8ff;}#sk-container-id-15 div.sk-toggleable__content pre {margin: 0.2em;color: black;border-radius: 0.25em;background-color: #f0f8ff;}#sk-container-id-15 input.sk-toggleable__control:checked~div.sk-toggleable__content {max-height: 200px;max-width: 100%;overflow: auto;}#sk-container-id-15 input.sk-toggleable__control:checked~label.sk-toggleable__label-arrow:before {content: \"▾\";}#sk-container-id-15 div.sk-estimator input.sk-toggleable__control:checked~label.sk-toggleable__label {background-color: #d4ebff;}#sk-container-id-15 div.sk-label input.sk-toggleable__control:checked~label.sk-toggleable__label {background-color: #d4ebff;}#sk-container-id-15 input.sk-hidden--visually {border: 0;clip: rect(1px 1px 1px 1px);clip: rect(1px, 1px, 1px, 1px);height: 1px;margin: -1px;overflow: hidden;padding: 0;position: absolute;width: 1px;}#sk-container-id-15 div.sk-estimator {font-family: monospace;background-color: #f0f8ff;border: 1px dotted black;border-radius: 0.25em;box-sizing: border-box;margin-bottom: 0.5em;}#sk-container-id-15 div.sk-estimator:hover {background-color: #d4ebff;}#sk-container-id-15 div.sk-parallel-item::after {content: \"\";width: 100%;border-bottom: 1px solid gray;flex-grow: 1;}#sk-container-id-15 div.sk-label:hover label.sk-toggleable__label {background-color: #d4ebff;}#sk-container-id-15 div.sk-serial::before {content: \"\";position: absolute;border-left: 1px solid gray;box-sizing: border-box;top: 0;bottom: 0;left: 50%;z-index: 0;}#sk-container-id-15 div.sk-serial {display: flex;flex-direction: column;align-items: center;background-color: white;padding-right: 0.2em;padding-left: 0.2em;position: relative;}#sk-container-id-15 div.sk-item {position: relative;z-index: 1;}#sk-container-id-15 div.sk-parallel {display: flex;align-items: stretch;justify-content: center;background-color: white;position: relative;}#sk-container-id-15 div.sk-item::before, #sk-container-id-15 div.sk-parallel-item::before {content: \"\";position: absolute;border-left: 1px solid gray;box-sizing: border-box;top: 0;bottom: 0;left: 50%;z-index: -1;}#sk-container-id-15 div.sk-parallel-item {display: flex;flex-direction: column;z-index: 1;position: relative;background-color: white;}#sk-container-id-15 div.sk-parallel-item:first-child::after {align-self: flex-end;width: 50%;}#sk-container-id-15 div.sk-parallel-item:last-child::after {align-self: flex-start;width: 50%;}#sk-container-id-15 div.sk-parallel-item:only-child::after {width: 0;}#sk-container-id-15 div.sk-dashed-wrapped {border: 1px dashed gray;margin: 0 0.4em 0.5em 0.4em;box-sizing: border-box;padding-bottom: 0.4em;background-color: white;}#sk-container-id-15 div.sk-label label {font-family: monospace;font-weight: bold;display: inline-block;line-height: 1.2em;}#sk-container-id-15 div.sk-label-container {text-align: center;}#sk-container-id-15 div.sk-container {/* jupyter's `normalize.less` sets `[hidden] { display: none; }` but bootstrap.min.css set `[hidden] { display: none !important; }` so we also need the `!important` here to be able to override the default hidden behavior on the sphinx rendered scikit-learn.org. See: https://github.com/scikit-learn/scikit-learn/issues/21755 */display: inline-block !important;position: relative;}#sk-container-id-15 div.sk-text-repr-fallback {display: none;}</style><div id=\"sk-container-id-15\" class=\"sk-top-container\"><div class=\"sk-text-repr-fallback\"><pre>Pipeline(steps=[(&#x27;preprocess&#x27;,\n",
       "                 ColumnTransformer(remainder=&#x27;passthrough&#x27;,\n",
       "                                   transformers=[(&#x27;onehot&#x27;,\n",
       "                                                  OneHotEncoder(drop=&#x27;first&#x27;),\n",
       "                                                  [&#x27;loan&#x27;, &#x27;poutcome&#x27;,\n",
       "                                                   &#x27;housing&#x27;, &#x27;contact&#x27;]),\n",
       "                                                 (&#x27;ordinal&#x27;,\n",
       "                                                  OrdinalEncoder(mapping=[{&#x27;col&#x27;: &#x27;month&#x27;,\n",
       "                                                                           &#x27;data_type&#x27;: dtype(&#x27;O&#x27;),\n",
       "                                                                           &#x27;mapping&#x27;: jan     0\n",
       "feb     1\n",
       "mar     2\n",
       "apr     3\n",
       "may     4\n",
       "jun     5\n",
       "jul     6\n",
       "aug     7\n",
       "sep     8\n",
       "oct     9\n",
       "nov    10\n",
       "dec    11\n",
       "dtype: int64}]),\n",
       "                                                  [&#x27;month&#x27;]),\n",
       "                                                 (&#x27;binary&#x27;, BinaryEncoder(),...\n",
       "                               feature_types=None, gamma=None, gpu_id=None,\n",
       "                               grow_policy=None, importance_type=None,\n",
       "                               interaction_constraints=None, learning_rate=0.5,\n",
       "                               max_bin=None, max_cat_threshold=None,\n",
       "                               max_cat_to_onehot=None, max_delta_step=None,\n",
       "                               max_depth=6, max_leaves=None,\n",
       "                               min_child_weight=None, missing=nan,\n",
       "                               monotone_constraints=None, n_estimators=200,\n",
       "                               n_jobs=None, num_parallel_tree=None,\n",
       "                               predictor=None, random_state=None, ...))])</pre><b>In a Jupyter environment, please rerun this cell to show the HTML representation or trust the notebook. <br />On GitHub, the HTML representation is unable to render, please try loading this page with nbviewer.org.</b></div><div class=\"sk-container\" hidden><div class=\"sk-item sk-dashed-wrapped\"><div class=\"sk-label-container\"><div class=\"sk-label sk-toggleable\"><input class=\"sk-toggleable__control sk-hidden--visually\" id=\"sk-estimator-id-157\" type=\"checkbox\" ><label for=\"sk-estimator-id-157\" class=\"sk-toggleable__label sk-toggleable__label-arrow\">Pipeline</label><div class=\"sk-toggleable__content\"><pre>Pipeline(steps=[(&#x27;preprocess&#x27;,\n",
       "                 ColumnTransformer(remainder=&#x27;passthrough&#x27;,\n",
       "                                   transformers=[(&#x27;onehot&#x27;,\n",
       "                                                  OneHotEncoder(drop=&#x27;first&#x27;),\n",
       "                                                  [&#x27;loan&#x27;, &#x27;poutcome&#x27;,\n",
       "                                                   &#x27;housing&#x27;, &#x27;contact&#x27;]),\n",
       "                                                 (&#x27;ordinal&#x27;,\n",
       "                                                  OrdinalEncoder(mapping=[{&#x27;col&#x27;: &#x27;month&#x27;,\n",
       "                                                                           &#x27;data_type&#x27;: dtype(&#x27;O&#x27;),\n",
       "                                                                           &#x27;mapping&#x27;: jan     0\n",
       "feb     1\n",
       "mar     2\n",
       "apr     3\n",
       "may     4\n",
       "jun     5\n",
       "jul     6\n",
       "aug     7\n",
       "sep     8\n",
       "oct     9\n",
       "nov    10\n",
       "dec    11\n",
       "dtype: int64}]),\n",
       "                                                  [&#x27;month&#x27;]),\n",
       "                                                 (&#x27;binary&#x27;, BinaryEncoder(),...\n",
       "                               feature_types=None, gamma=None, gpu_id=None,\n",
       "                               grow_policy=None, importance_type=None,\n",
       "                               interaction_constraints=None, learning_rate=0.5,\n",
       "                               max_bin=None, max_cat_threshold=None,\n",
       "                               max_cat_to_onehot=None, max_delta_step=None,\n",
       "                               max_depth=6, max_leaves=None,\n",
       "                               min_child_weight=None, missing=nan,\n",
       "                               monotone_constraints=None, n_estimators=200,\n",
       "                               n_jobs=None, num_parallel_tree=None,\n",
       "                               predictor=None, random_state=None, ...))])</pre></div></div></div><div class=\"sk-serial\"><div class=\"sk-item sk-dashed-wrapped\"><div class=\"sk-label-container\"><div class=\"sk-label sk-toggleable\"><input class=\"sk-toggleable__control sk-hidden--visually\" id=\"sk-estimator-id-158\" type=\"checkbox\" ><label for=\"sk-estimator-id-158\" class=\"sk-toggleable__label sk-toggleable__label-arrow\">preprocess: ColumnTransformer</label><div class=\"sk-toggleable__content\"><pre>ColumnTransformer(remainder=&#x27;passthrough&#x27;,\n",
       "                  transformers=[(&#x27;onehot&#x27;, OneHotEncoder(drop=&#x27;first&#x27;),\n",
       "                                 [&#x27;loan&#x27;, &#x27;poutcome&#x27;, &#x27;housing&#x27;, &#x27;contact&#x27;]),\n",
       "                                (&#x27;ordinal&#x27;,\n",
       "                                 OrdinalEncoder(mapping=[{&#x27;col&#x27;: &#x27;month&#x27;,\n",
       "                                                          &#x27;data_type&#x27;: dtype(&#x27;O&#x27;),\n",
       "                                                          &#x27;mapping&#x27;: jan     0\n",
       "feb     1\n",
       "mar     2\n",
       "apr     3\n",
       "may     4\n",
       "jun     5\n",
       "jul     6\n",
       "aug     7\n",
       "sep     8\n",
       "oct     9\n",
       "nov    10\n",
       "dec    11\n",
       "dtype: int64}]),\n",
       "                                 [&#x27;month&#x27;]),\n",
       "                                (&#x27;binary&#x27;, BinaryEncoder(), [&#x27;job&#x27;])])</pre></div></div></div><div class=\"sk-parallel\"><div class=\"sk-parallel-item\"><div class=\"sk-item\"><div class=\"sk-label-container\"><div class=\"sk-label sk-toggleable\"><input class=\"sk-toggleable__control sk-hidden--visually\" id=\"sk-estimator-id-159\" type=\"checkbox\" ><label for=\"sk-estimator-id-159\" class=\"sk-toggleable__label sk-toggleable__label-arrow\">onehot</label><div class=\"sk-toggleable__content\"><pre>[&#x27;loan&#x27;, &#x27;poutcome&#x27;, &#x27;housing&#x27;, &#x27;contact&#x27;]</pre></div></div></div><div class=\"sk-serial\"><div class=\"sk-item\"><div class=\"sk-estimator sk-toggleable\"><input class=\"sk-toggleable__control sk-hidden--visually\" id=\"sk-estimator-id-160\" type=\"checkbox\" ><label for=\"sk-estimator-id-160\" class=\"sk-toggleable__label sk-toggleable__label-arrow\">OneHotEncoder</label><div class=\"sk-toggleable__content\"><pre>OneHotEncoder(drop=&#x27;first&#x27;)</pre></div></div></div></div></div></div><div class=\"sk-parallel-item\"><div class=\"sk-item\"><div class=\"sk-label-container\"><div class=\"sk-label sk-toggleable\"><input class=\"sk-toggleable__control sk-hidden--visually\" id=\"sk-estimator-id-161\" type=\"checkbox\" ><label for=\"sk-estimator-id-161\" class=\"sk-toggleable__label sk-toggleable__label-arrow\">ordinal</label><div class=\"sk-toggleable__content\"><pre>[&#x27;month&#x27;]</pre></div></div></div><div class=\"sk-serial\"><div class=\"sk-item\"><div class=\"sk-estimator sk-toggleable\"><input class=\"sk-toggleable__control sk-hidden--visually\" id=\"sk-estimator-id-162\" type=\"checkbox\" ><label for=\"sk-estimator-id-162\" class=\"sk-toggleable__label sk-toggleable__label-arrow\">OrdinalEncoder</label><div class=\"sk-toggleable__content\"><pre>OrdinalEncoder(mapping=[{&#x27;col&#x27;: &#x27;month&#x27;, &#x27;data_type&#x27;: dtype(&#x27;O&#x27;),\n",
       "                         &#x27;mapping&#x27;: jan     0\n",
       "feb     1\n",
       "mar     2\n",
       "apr     3\n",
       "may     4\n",
       "jun     5\n",
       "jul     6\n",
       "aug     7\n",
       "sep     8\n",
       "oct     9\n",
       "nov    10\n",
       "dec    11\n",
       "dtype: int64}])</pre></div></div></div></div></div></div><div class=\"sk-parallel-item\"><div class=\"sk-item\"><div class=\"sk-label-container\"><div class=\"sk-label sk-toggleable\"><input class=\"sk-toggleable__control sk-hidden--visually\" id=\"sk-estimator-id-163\" type=\"checkbox\" ><label for=\"sk-estimator-id-163\" class=\"sk-toggleable__label sk-toggleable__label-arrow\">binary</label><div class=\"sk-toggleable__content\"><pre>[&#x27;job&#x27;]</pre></div></div></div><div class=\"sk-serial\"><div class=\"sk-item\"><div class=\"sk-estimator sk-toggleable\"><input class=\"sk-toggleable__control sk-hidden--visually\" id=\"sk-estimator-id-164\" type=\"checkbox\" ><label for=\"sk-estimator-id-164\" class=\"sk-toggleable__label sk-toggleable__label-arrow\">BinaryEncoder</label><div class=\"sk-toggleable__content\"><pre>BinaryEncoder()</pre></div></div></div></div></div></div><div class=\"sk-parallel-item\"><div class=\"sk-item\"><div class=\"sk-label-container\"><div class=\"sk-label sk-toggleable\"><input class=\"sk-toggleable__control sk-hidden--visually\" id=\"sk-estimator-id-165\" type=\"checkbox\" ><label for=\"sk-estimator-id-165\" class=\"sk-toggleable__label sk-toggleable__label-arrow\">remainder</label><div class=\"sk-toggleable__content\"><pre>[&#x27;age&#x27;, &#x27;balance&#x27;, &#x27;campaign&#x27;, &#x27;pdays&#x27;]</pre></div></div></div><div class=\"sk-serial\"><div class=\"sk-item\"><div class=\"sk-estimator sk-toggleable\"><input class=\"sk-toggleable__control sk-hidden--visually\" id=\"sk-estimator-id-166\" type=\"checkbox\" ><label for=\"sk-estimator-id-166\" class=\"sk-toggleable__label sk-toggleable__label-arrow\">passthrough</label><div class=\"sk-toggleable__content\"><pre>passthrough</pre></div></div></div></div></div></div></div></div><div class=\"sk-item\"><div class=\"sk-estimator sk-toggleable\"><input class=\"sk-toggleable__control sk-hidden--visually\" id=\"sk-estimator-id-167\" type=\"checkbox\" ><label for=\"sk-estimator-id-167\" class=\"sk-toggleable__label sk-toggleable__label-arrow\">XGBClassifier</label><div class=\"sk-toggleable__content\"><pre>XGBClassifier(base_score=None, booster=None, callbacks=None,\n",
       "              colsample_bylevel=None, colsample_bynode=None, colsample_bytree=1,\n",
       "              early_stopping_rounds=None, enable_categorical=False,\n",
       "              eval_metric=None, feature_types=None, gamma=None, gpu_id=None,\n",
       "              grow_policy=None, importance_type=None,\n",
       "              interaction_constraints=None, learning_rate=0.5, max_bin=None,\n",
       "              max_cat_threshold=None, max_cat_to_onehot=None,\n",
       "              max_delta_step=None, max_depth=6, max_leaves=None,\n",
       "              min_child_weight=None, missing=nan, monotone_constraints=None,\n",
       "              n_estimators=200, n_jobs=None, num_parallel_tree=None,\n",
       "              predictor=None, random_state=None, ...)</pre></div></div></div></div></div></div></div>"
      ],
      "text/plain": [
       "Pipeline(steps=[('preprocess',\n",
       "                 ColumnTransformer(remainder='passthrough',\n",
       "                                   transformers=[('onehot',\n",
       "                                                  OneHotEncoder(drop='first'),\n",
       "                                                  ['loan', 'poutcome',\n",
       "                                                   'housing', 'contact']),\n",
       "                                                 ('ordinal',\n",
       "                                                  OrdinalEncoder(mapping=[{'col': 'month',\n",
       "                                                                           'data_type': dtype('O'),\n",
       "                                                                           'mapping': jan     0\n",
       "feb     1\n",
       "mar     2\n",
       "apr     3\n",
       "may     4\n",
       "jun     5\n",
       "jul     6\n",
       "aug     7\n",
       "sep     8\n",
       "oct     9\n",
       "nov    10\n",
       "dec    11\n",
       "dtype: int64}]),\n",
       "                                                  ['month']),\n",
       "                                                 ('binary', BinaryEncoder(),...\n",
       "                               feature_types=None, gamma=None, gpu_id=None,\n",
       "                               grow_policy=None, importance_type=None,\n",
       "                               interaction_constraints=None, learning_rate=0.5,\n",
       "                               max_bin=None, max_cat_threshold=None,\n",
       "                               max_cat_to_onehot=None, max_delta_step=None,\n",
       "                               max_depth=6, max_leaves=None,\n",
       "                               min_child_weight=None, missing=nan,\n",
       "                               monotone_constraints=None, n_estimators=200,\n",
       "                               n_jobs=None, num_parallel_tree=None,\n",
       "                               predictor=None, random_state=None, ...))])"
      ]
     },
     "execution_count": 388,
     "metadata": {},
     "output_type": "execute_result"
    }
   ],
   "source": [
    "best_model = grid.best_estimator_\n",
    "best_model.fit(x_train, y_train)"
   ]
  },
  {
   "cell_type": "code",
   "execution_count": 389,
   "metadata": {},
   "outputs": [
    {
     "data": {
      "text/html": [
       "<style>#sk-container-id-16 {color: black;background-color: white;}#sk-container-id-16 pre{padding: 0;}#sk-container-id-16 div.sk-toggleable {background-color: white;}#sk-container-id-16 label.sk-toggleable__label {cursor: pointer;display: block;width: 100%;margin-bottom: 0;padding: 0.3em;box-sizing: border-box;text-align: center;}#sk-container-id-16 label.sk-toggleable__label-arrow:before {content: \"▸\";float: left;margin-right: 0.25em;color: #696969;}#sk-container-id-16 label.sk-toggleable__label-arrow:hover:before {color: black;}#sk-container-id-16 div.sk-estimator:hover label.sk-toggleable__label-arrow:before {color: black;}#sk-container-id-16 div.sk-toggleable__content {max-height: 0;max-width: 0;overflow: hidden;text-align: left;background-color: #f0f8ff;}#sk-container-id-16 div.sk-toggleable__content pre {margin: 0.2em;color: black;border-radius: 0.25em;background-color: #f0f8ff;}#sk-container-id-16 input.sk-toggleable__control:checked~div.sk-toggleable__content {max-height: 200px;max-width: 100%;overflow: auto;}#sk-container-id-16 input.sk-toggleable__control:checked~label.sk-toggleable__label-arrow:before {content: \"▾\";}#sk-container-id-16 div.sk-estimator input.sk-toggleable__control:checked~label.sk-toggleable__label {background-color: #d4ebff;}#sk-container-id-16 div.sk-label input.sk-toggleable__control:checked~label.sk-toggleable__label {background-color: #d4ebff;}#sk-container-id-16 input.sk-hidden--visually {border: 0;clip: rect(1px 1px 1px 1px);clip: rect(1px, 1px, 1px, 1px);height: 1px;margin: -1px;overflow: hidden;padding: 0;position: absolute;width: 1px;}#sk-container-id-16 div.sk-estimator {font-family: monospace;background-color: #f0f8ff;border: 1px dotted black;border-radius: 0.25em;box-sizing: border-box;margin-bottom: 0.5em;}#sk-container-id-16 div.sk-estimator:hover {background-color: #d4ebff;}#sk-container-id-16 div.sk-parallel-item::after {content: \"\";width: 100%;border-bottom: 1px solid gray;flex-grow: 1;}#sk-container-id-16 div.sk-label:hover label.sk-toggleable__label {background-color: #d4ebff;}#sk-container-id-16 div.sk-serial::before {content: \"\";position: absolute;border-left: 1px solid gray;box-sizing: border-box;top: 0;bottom: 0;left: 50%;z-index: 0;}#sk-container-id-16 div.sk-serial {display: flex;flex-direction: column;align-items: center;background-color: white;padding-right: 0.2em;padding-left: 0.2em;position: relative;}#sk-container-id-16 div.sk-item {position: relative;z-index: 1;}#sk-container-id-16 div.sk-parallel {display: flex;align-items: stretch;justify-content: center;background-color: white;position: relative;}#sk-container-id-16 div.sk-item::before, #sk-container-id-16 div.sk-parallel-item::before {content: \"\";position: absolute;border-left: 1px solid gray;box-sizing: border-box;top: 0;bottom: 0;left: 50%;z-index: -1;}#sk-container-id-16 div.sk-parallel-item {display: flex;flex-direction: column;z-index: 1;position: relative;background-color: white;}#sk-container-id-16 div.sk-parallel-item:first-child::after {align-self: flex-end;width: 50%;}#sk-container-id-16 div.sk-parallel-item:last-child::after {align-self: flex-start;width: 50%;}#sk-container-id-16 div.sk-parallel-item:only-child::after {width: 0;}#sk-container-id-16 div.sk-dashed-wrapped {border: 1px dashed gray;margin: 0 0.4em 0.5em 0.4em;box-sizing: border-box;padding-bottom: 0.4em;background-color: white;}#sk-container-id-16 div.sk-label label {font-family: monospace;font-weight: bold;display: inline-block;line-height: 1.2em;}#sk-container-id-16 div.sk-label-container {text-align: center;}#sk-container-id-16 div.sk-container {/* jupyter's `normalize.less` sets `[hidden] { display: none; }` but bootstrap.min.css set `[hidden] { display: none !important; }` so we also need the `!important` here to be able to override the default hidden behavior on the sphinx rendered scikit-learn.org. See: https://github.com/scikit-learn/scikit-learn/issues/21755 */display: inline-block !important;position: relative;}#sk-container-id-16 div.sk-text-repr-fallback {display: none;}</style><div id=\"sk-container-id-16\" class=\"sk-top-container\"><div class=\"sk-text-repr-fallback\"><pre>Pipeline(steps=[(&#x27;preprocess&#x27;,\n",
       "                 ColumnTransformer(remainder=&#x27;passthrough&#x27;,\n",
       "                                   transformers=[(&#x27;onehot&#x27;,\n",
       "                                                  OneHotEncoder(drop=&#x27;first&#x27;),\n",
       "                                                  [&#x27;loan&#x27;, &#x27;poutcome&#x27;,\n",
       "                                                   &#x27;housing&#x27;, &#x27;contact&#x27;]),\n",
       "                                                 (&#x27;ordinal&#x27;,\n",
       "                                                  OrdinalEncoder(mapping=[{&#x27;col&#x27;: &#x27;month&#x27;,\n",
       "                                                                           &#x27;data_type&#x27;: dtype(&#x27;O&#x27;),\n",
       "                                                                           &#x27;mapping&#x27;: jan     0\n",
       "feb     1\n",
       "mar     2\n",
       "apr     3\n",
       "may     4\n",
       "jun     5\n",
       "jul     6\n",
       "aug     7\n",
       "sep     8\n",
       "oct     9\n",
       "nov    10\n",
       "dec    11\n",
       "dtype: int64}]),\n",
       "                                                  [&#x27;month&#x27;]),\n",
       "                                                 (&#x27;binary&#x27;, BinaryEncoder(),...\n",
       "                               feature_types=None, gamma=None, gpu_id=None,\n",
       "                               grow_policy=None, importance_type=None,\n",
       "                               interaction_constraints=None, learning_rate=None,\n",
       "                               max_bin=None, max_cat_threshold=None,\n",
       "                               max_cat_to_onehot=None, max_delta_step=None,\n",
       "                               max_depth=None, max_leaves=None,\n",
       "                               min_child_weight=None, missing=nan,\n",
       "                               monotone_constraints=None, n_estimators=100,\n",
       "                               n_jobs=None, num_parallel_tree=None,\n",
       "                               predictor=None, random_state=None, ...))])</pre><b>In a Jupyter environment, please rerun this cell to show the HTML representation or trust the notebook. <br />On GitHub, the HTML representation is unable to render, please try loading this page with nbviewer.org.</b></div><div class=\"sk-container\" hidden><div class=\"sk-item sk-dashed-wrapped\"><div class=\"sk-label-container\"><div class=\"sk-label sk-toggleable\"><input class=\"sk-toggleable__control sk-hidden--visually\" id=\"sk-estimator-id-168\" type=\"checkbox\" ><label for=\"sk-estimator-id-168\" class=\"sk-toggleable__label sk-toggleable__label-arrow\">Pipeline</label><div class=\"sk-toggleable__content\"><pre>Pipeline(steps=[(&#x27;preprocess&#x27;,\n",
       "                 ColumnTransformer(remainder=&#x27;passthrough&#x27;,\n",
       "                                   transformers=[(&#x27;onehot&#x27;,\n",
       "                                                  OneHotEncoder(drop=&#x27;first&#x27;),\n",
       "                                                  [&#x27;loan&#x27;, &#x27;poutcome&#x27;,\n",
       "                                                   &#x27;housing&#x27;, &#x27;contact&#x27;]),\n",
       "                                                 (&#x27;ordinal&#x27;,\n",
       "                                                  OrdinalEncoder(mapping=[{&#x27;col&#x27;: &#x27;month&#x27;,\n",
       "                                                                           &#x27;data_type&#x27;: dtype(&#x27;O&#x27;),\n",
       "                                                                           &#x27;mapping&#x27;: jan     0\n",
       "feb     1\n",
       "mar     2\n",
       "apr     3\n",
       "may     4\n",
       "jun     5\n",
       "jul     6\n",
       "aug     7\n",
       "sep     8\n",
       "oct     9\n",
       "nov    10\n",
       "dec    11\n",
       "dtype: int64}]),\n",
       "                                                  [&#x27;month&#x27;]),\n",
       "                                                 (&#x27;binary&#x27;, BinaryEncoder(),...\n",
       "                               feature_types=None, gamma=None, gpu_id=None,\n",
       "                               grow_policy=None, importance_type=None,\n",
       "                               interaction_constraints=None, learning_rate=None,\n",
       "                               max_bin=None, max_cat_threshold=None,\n",
       "                               max_cat_to_onehot=None, max_delta_step=None,\n",
       "                               max_depth=None, max_leaves=None,\n",
       "                               min_child_weight=None, missing=nan,\n",
       "                               monotone_constraints=None, n_estimators=100,\n",
       "                               n_jobs=None, num_parallel_tree=None,\n",
       "                               predictor=None, random_state=None, ...))])</pre></div></div></div><div class=\"sk-serial\"><div class=\"sk-item sk-dashed-wrapped\"><div class=\"sk-label-container\"><div class=\"sk-label sk-toggleable\"><input class=\"sk-toggleable__control sk-hidden--visually\" id=\"sk-estimator-id-169\" type=\"checkbox\" ><label for=\"sk-estimator-id-169\" class=\"sk-toggleable__label sk-toggleable__label-arrow\">preprocess: ColumnTransformer</label><div class=\"sk-toggleable__content\"><pre>ColumnTransformer(remainder=&#x27;passthrough&#x27;,\n",
       "                  transformers=[(&#x27;onehot&#x27;, OneHotEncoder(drop=&#x27;first&#x27;),\n",
       "                                 [&#x27;loan&#x27;, &#x27;poutcome&#x27;, &#x27;housing&#x27;, &#x27;contact&#x27;]),\n",
       "                                (&#x27;ordinal&#x27;,\n",
       "                                 OrdinalEncoder(mapping=[{&#x27;col&#x27;: &#x27;month&#x27;,\n",
       "                                                          &#x27;data_type&#x27;: dtype(&#x27;O&#x27;),\n",
       "                                                          &#x27;mapping&#x27;: jan     0\n",
       "feb     1\n",
       "mar     2\n",
       "apr     3\n",
       "may     4\n",
       "jun     5\n",
       "jul     6\n",
       "aug     7\n",
       "sep     8\n",
       "oct     9\n",
       "nov    10\n",
       "dec    11\n",
       "dtype: int64}]),\n",
       "                                 [&#x27;month&#x27;]),\n",
       "                                (&#x27;binary&#x27;, BinaryEncoder(), [&#x27;job&#x27;])])</pre></div></div></div><div class=\"sk-parallel\"><div class=\"sk-parallel-item\"><div class=\"sk-item\"><div class=\"sk-label-container\"><div class=\"sk-label sk-toggleable\"><input class=\"sk-toggleable__control sk-hidden--visually\" id=\"sk-estimator-id-170\" type=\"checkbox\" ><label for=\"sk-estimator-id-170\" class=\"sk-toggleable__label sk-toggleable__label-arrow\">onehot</label><div class=\"sk-toggleable__content\"><pre>[&#x27;loan&#x27;, &#x27;poutcome&#x27;, &#x27;housing&#x27;, &#x27;contact&#x27;]</pre></div></div></div><div class=\"sk-serial\"><div class=\"sk-item\"><div class=\"sk-estimator sk-toggleable\"><input class=\"sk-toggleable__control sk-hidden--visually\" id=\"sk-estimator-id-171\" type=\"checkbox\" ><label for=\"sk-estimator-id-171\" class=\"sk-toggleable__label sk-toggleable__label-arrow\">OneHotEncoder</label><div class=\"sk-toggleable__content\"><pre>OneHotEncoder(drop=&#x27;first&#x27;)</pre></div></div></div></div></div></div><div class=\"sk-parallel-item\"><div class=\"sk-item\"><div class=\"sk-label-container\"><div class=\"sk-label sk-toggleable\"><input class=\"sk-toggleable__control sk-hidden--visually\" id=\"sk-estimator-id-172\" type=\"checkbox\" ><label for=\"sk-estimator-id-172\" class=\"sk-toggleable__label sk-toggleable__label-arrow\">ordinal</label><div class=\"sk-toggleable__content\"><pre>[&#x27;month&#x27;]</pre></div></div></div><div class=\"sk-serial\"><div class=\"sk-item\"><div class=\"sk-estimator sk-toggleable\"><input class=\"sk-toggleable__control sk-hidden--visually\" id=\"sk-estimator-id-173\" type=\"checkbox\" ><label for=\"sk-estimator-id-173\" class=\"sk-toggleable__label sk-toggleable__label-arrow\">OrdinalEncoder</label><div class=\"sk-toggleable__content\"><pre>OrdinalEncoder(mapping=[{&#x27;col&#x27;: &#x27;month&#x27;, &#x27;data_type&#x27;: dtype(&#x27;O&#x27;),\n",
       "                         &#x27;mapping&#x27;: jan     0\n",
       "feb     1\n",
       "mar     2\n",
       "apr     3\n",
       "may     4\n",
       "jun     5\n",
       "jul     6\n",
       "aug     7\n",
       "sep     8\n",
       "oct     9\n",
       "nov    10\n",
       "dec    11\n",
       "dtype: int64}])</pre></div></div></div></div></div></div><div class=\"sk-parallel-item\"><div class=\"sk-item\"><div class=\"sk-label-container\"><div class=\"sk-label sk-toggleable\"><input class=\"sk-toggleable__control sk-hidden--visually\" id=\"sk-estimator-id-174\" type=\"checkbox\" ><label for=\"sk-estimator-id-174\" class=\"sk-toggleable__label sk-toggleable__label-arrow\">binary</label><div class=\"sk-toggleable__content\"><pre>[&#x27;job&#x27;]</pre></div></div></div><div class=\"sk-serial\"><div class=\"sk-item\"><div class=\"sk-estimator sk-toggleable\"><input class=\"sk-toggleable__control sk-hidden--visually\" id=\"sk-estimator-id-175\" type=\"checkbox\" ><label for=\"sk-estimator-id-175\" class=\"sk-toggleable__label sk-toggleable__label-arrow\">BinaryEncoder</label><div class=\"sk-toggleable__content\"><pre>BinaryEncoder()</pre></div></div></div></div></div></div><div class=\"sk-parallel-item\"><div class=\"sk-item\"><div class=\"sk-label-container\"><div class=\"sk-label sk-toggleable\"><input class=\"sk-toggleable__control sk-hidden--visually\" id=\"sk-estimator-id-176\" type=\"checkbox\" ><label for=\"sk-estimator-id-176\" class=\"sk-toggleable__label sk-toggleable__label-arrow\">remainder</label><div class=\"sk-toggleable__content\"><pre>[&#x27;age&#x27;, &#x27;balance&#x27;, &#x27;campaign&#x27;, &#x27;pdays&#x27;]</pre></div></div></div><div class=\"sk-serial\"><div class=\"sk-item\"><div class=\"sk-estimator sk-toggleable\"><input class=\"sk-toggleable__control sk-hidden--visually\" id=\"sk-estimator-id-177\" type=\"checkbox\" ><label for=\"sk-estimator-id-177\" class=\"sk-toggleable__label sk-toggleable__label-arrow\">passthrough</label><div class=\"sk-toggleable__content\"><pre>passthrough</pre></div></div></div></div></div></div></div></div><div class=\"sk-item\"><div class=\"sk-estimator sk-toggleable\"><input class=\"sk-toggleable__control sk-hidden--visually\" id=\"sk-estimator-id-178\" type=\"checkbox\" ><label for=\"sk-estimator-id-178\" class=\"sk-toggleable__label sk-toggleable__label-arrow\">XGBClassifier</label><div class=\"sk-toggleable__content\"><pre>XGBClassifier(base_score=None, booster=None, callbacks=None,\n",
       "              colsample_bylevel=None, colsample_bynode=None,\n",
       "              colsample_bytree=None, early_stopping_rounds=None,\n",
       "              enable_categorical=False, eval_metric=None, feature_types=None,\n",
       "              gamma=None, gpu_id=None, grow_policy=None, importance_type=None,\n",
       "              interaction_constraints=None, learning_rate=None, max_bin=None,\n",
       "              max_cat_threshold=None, max_cat_to_onehot=None,\n",
       "              max_delta_step=None, max_depth=None, max_leaves=None,\n",
       "              min_child_weight=None, missing=nan, monotone_constraints=None,\n",
       "              n_estimators=100, n_jobs=None, num_parallel_tree=None,\n",
       "              predictor=None, random_state=None, ...)</pre></div></div></div></div></div></div></div>"
      ],
      "text/plain": [
       "Pipeline(steps=[('preprocess',\n",
       "                 ColumnTransformer(remainder='passthrough',\n",
       "                                   transformers=[('onehot',\n",
       "                                                  OneHotEncoder(drop='first'),\n",
       "                                                  ['loan', 'poutcome',\n",
       "                                                   'housing', 'contact']),\n",
       "                                                 ('ordinal',\n",
       "                                                  OrdinalEncoder(mapping=[{'col': 'month',\n",
       "                                                                           'data_type': dtype('O'),\n",
       "                                                                           'mapping': jan     0\n",
       "feb     1\n",
       "mar     2\n",
       "apr     3\n",
       "may     4\n",
       "jun     5\n",
       "jul     6\n",
       "aug     7\n",
       "sep     8\n",
       "oct     9\n",
       "nov    10\n",
       "dec    11\n",
       "dtype: int64}]),\n",
       "                                                  ['month']),\n",
       "                                                 ('binary', BinaryEncoder(),...\n",
       "                               feature_types=None, gamma=None, gpu_id=None,\n",
       "                               grow_policy=None, importance_type=None,\n",
       "                               interaction_constraints=None, learning_rate=None,\n",
       "                               max_bin=None, max_cat_threshold=None,\n",
       "                               max_cat_to_onehot=None, max_delta_step=None,\n",
       "                               max_depth=None, max_leaves=None,\n",
       "                               min_child_weight=None, missing=nan,\n",
       "                               monotone_constraints=None, n_estimators=100,\n",
       "                               n_jobs=None, num_parallel_tree=None,\n",
       "                               predictor=None, random_state=None, ...))])"
      ]
     },
     "execution_count": 389,
     "metadata": {},
     "output_type": "execute_result"
    }
   ],
   "source": [
    "estimator=Pipeline([\n",
    "    ('preprocess',transformer),\n",
    "    ('model',xgb)\n",
    "])\n",
    "estimator.fit(x_train, y_train)"
   ]
  },
  {
   "cell_type": "code",
   "execution_count": 390,
   "metadata": {},
   "outputs": [],
   "source": [
    "y_pred_default = estimator.predict(x_test)\n",
    "y_pred_proba_default = estimator.predict_proba(x_test)\n",
    "y_pred_tuned = best_model.predict(x_test)\n",
    "y_pred_proba_tuned = best_model.predict_proba(x_test)"
   ]
  },
  {
   "cell_type": "code",
   "execution_count": 391,
   "metadata": {},
   "outputs": [
    {
     "name": "stdout",
     "output_type": "stream",
     "text": [
      "Classification Report Default XGBoost : \n",
      "               precision    recall  f1-score   support\n",
      "\n",
      "           0       0.69      0.79      0.74       815\n",
      "           1       0.73      0.62      0.67       746\n",
      "\n",
      "    accuracy                           0.71      1561\n",
      "   macro avg       0.71      0.70      0.70      1561\n",
      "weighted avg       0.71      0.71      0.70      1561\n",
      "\n",
      "Classification Report Tuned XGBoost : \n",
      "               precision    recall  f1-score   support\n",
      "\n",
      "           0       0.68      0.74      0.71       815\n",
      "           1       0.69      0.62      0.65       746\n",
      "\n",
      "    accuracy                           0.69      1561\n",
      "   macro avg       0.69      0.68      0.68      1561\n",
      "weighted avg       0.69      0.69      0.68      1561\n",
      "\n"
     ]
    }
   ],
   "source": [
    "report_default = classification_report(y_test, y_pred_default)\n",
    "report_tuned = classification_report(y_test, y_pred_tuned)\n",
    "\n",
    "print('Classification Report Default XGBoost : \\n', report_default)\n",
    "print('Classification Report Tuned XGBoost : \\n', report_tuned)"
   ]
  },
  {
   "attachments": {},
   "cell_type": "markdown",
   "metadata": {},
   "source": [
    "berasarkan clasification report di atas hasil recall nilai positif tidak berubah tetapi mengalami sedikit penurunan pada recall nilai negatif sebanyak 2 persen"
   ]
  },
  {
   "cell_type": "code",
   "execution_count": 392,
   "metadata": {},
   "outputs": [
    {
     "data": {
      "image/png": "[encoded data removed]",
      "text/plain": [
       "<Figure size 800x500 with 2 Axes>"
      ]
     },
     "metadata": {},
     "output_type": "display_data"
    }
   ],
   "source": [
    "fig, ax = plt.subplots(1,1, figsize=(8, 5))\n",
    "ConfusionMatrixDisplay.from_estimator(best_model, x_test, y_test, cmap='rocket', ax=ax)\n",
    "\n",
    "plt.xlabel('Prediction y')\n",
    "plt.ylabel('Actual y')\n",
    "plt.title('Confusion Matrix')\n",
    "\n",
    "plt.show()"
   ]
  },
  {
   "attachments": {},
   "cell_type": "markdown",
   "metadata": {},
   "source": [
    "### Feature Importances"
   ]
  },
  {
   "attachments": {},
   "cell_type": "markdown",
   "metadata": {},
   "source": [
    "Kita akan melihat Fitur mana yang paling penting untuk model XGboost yang sudah di buat"
   ]
  },
  {
   "cell_type": "code",
   "execution_count": 393,
   "metadata": {},
   "outputs": [],
   "source": [
    "onehot_cols = list(transformer.transformers_[0][1].get_feature_names_out())\n",
    "ordinal_cols = list(transformer.transformers_[1][1].get_feature_names())\n",
    "Binary_cols = list(transformer.transformers_[2][1].get_feature_names_out())\n",
    "remainder_cols = list(x.columns[transformer.transformers_[3][2]])\n",
    "\n",
    "feature_name = onehot_cols + ordinal_cols + Binary_cols + remainder_cols\n"
   ]
  },
  {
   "cell_type": "code",
   "execution_count": 394,
   "metadata": {},
   "outputs": [
    {
     "data": {
      "text/html": [
       "<div>\n",
       "<style scoped>\n",
       "    .dataframe tbody tr th:only-of-type {\n",
       "        vertical-align: middle;\n",
       "    }\n",
       "\n",
       "    .dataframe tbody tr th {\n",
       "        vertical-align: top;\n",
       "    }\n",
       "\n",
       "    .dataframe thead th {\n",
       "        text-align: right;\n",
       "    }\n",
       "</style>\n",
       "<table border=\"1\" class=\"dataframe\">\n",
       "  <thead>\n",
       "    <tr style=\"text-align: right;\">\n",
       "      <th></th>\n",
       "      <th>features</th>\n",
       "      <th>importances</th>\n",
       "    </tr>\n",
       "  </thead>\n",
       "  <tbody>\n",
       "    <tr>\n",
       "      <th>3</th>\n",
       "      <td>poutcome_success</td>\n",
       "      <td>0.517718</td>\n",
       "    </tr>\n",
       "    <tr>\n",
       "      <th>5</th>\n",
       "      <td>contact_notContacted</td>\n",
       "      <td>0.119550</td>\n",
       "    </tr>\n",
       "    <tr>\n",
       "      <th>4</th>\n",
       "      <td>housing_yes</td>\n",
       "      <td>0.039532</td>\n",
       "    </tr>\n",
       "    <tr>\n",
       "      <th>0</th>\n",
       "      <td>loan_yes</td>\n",
       "      <td>0.035830</td>\n",
       "    </tr>\n",
       "    <tr>\n",
       "      <th>6</th>\n",
       "      <td>contact_telephone</td>\n",
       "      <td>0.033317</td>\n",
       "    </tr>\n",
       "    <tr>\n",
       "      <th>7</th>\n",
       "      <td>month</td>\n",
       "      <td>0.032055</td>\n",
       "    </tr>\n",
       "    <tr>\n",
       "      <th>1</th>\n",
       "      <td>poutcome_notContacted</td>\n",
       "      <td>0.031469</td>\n",
       "    </tr>\n",
       "    <tr>\n",
       "      <th>2</th>\n",
       "      <td>poutcome_other</td>\n",
       "      <td>0.025060</td>\n",
       "    </tr>\n",
       "    <tr>\n",
       "      <th>15</th>\n",
       "      <td>pdays</td>\n",
       "      <td>0.024189</td>\n",
       "    </tr>\n",
       "    <tr>\n",
       "      <th>14</th>\n",
       "      <td>campaign</td>\n",
       "      <td>0.020820</td>\n",
       "    </tr>\n",
       "  </tbody>\n",
       "</table>\n",
       "</div>"
      ],
      "text/plain": [
       "                 features  importances\n",
       "3        poutcome_success     0.517718\n",
       "5    contact_notContacted     0.119550\n",
       "4             housing_yes     0.039532\n",
       "0                loan_yes     0.035830\n",
       "6       contact_telephone     0.033317\n",
       "7                   month     0.032055\n",
       "1   poutcome_notContacted     0.031469\n",
       "2          poutcome_other     0.025060\n",
       "15                  pdays     0.024189\n",
       "14               campaign     0.020820"
      ]
     },
     "execution_count": 394,
     "metadata": {},
     "output_type": "execute_result"
    }
   ],
   "source": [
    "feature_importances = pd.DataFrame({\n",
    "    'features' : feature_name,\n",
    "    'importances': best_model['model'].feature_importances_\n",
    "})\n",
    "\n",
    "feature_importances.sort_values('importances', ascending=False).head(10)"
   ]
  },
  {
   "cell_type": "code",
   "execution_count": 395,
   "metadata": {},
   "outputs": [
    {
     "data": {
      "image/png": "[encoded data removed]",
      "text/plain": [
       "<Figure size 640x480 with 1 Axes>"
      ]
     },
     "metadata": {},
     "output_type": "display_data"
    }
   ],
   "source": [
    "top10_features = feature_importances.sort_values('importances', ascending=False).head(10)\n",
    "\n",
    "sns.barplot(data = top10_features, y= 'features', x='importances')\n",
    "plt.title('Feature Importances')\n",
    "\n",
    "\n",
    "plt.show()"
   ]
  },
  {
   "attachments": {},
   "cell_type": "markdown",
   "metadata": {},
   "source": [
    "terlihat bahwa pada model fitur yang paling penting terdapat di potcome success di ikuti dengan contact dan housing yes "
   ]
  },
  {
   "attachments": {},
   "cell_type": "markdown",
   "metadata": {},
   "source": [
    "## Kesimpulan Dan Saran"
   ]
  },
  {
   "cell_type": "code",
   "execution_count": 396,
   "metadata": {},
   "outputs": [
    {
     "name": "stdout",
     "output_type": "stream",
     "text": [
      "Classification Report Tuned XGBoost : \n",
      "               precision    recall  f1-score   support\n",
      "\n",
      "           0       0.68      0.74      0.71       815\n",
      "           1       0.69      0.62      0.65       746\n",
      "\n",
      "    accuracy                           0.69      1561\n",
      "   macro avg       0.69      0.68      0.68      1561\n",
      "weighted avg       0.69      0.69      0.68      1561\n",
      "\n"
     ]
    }
   ],
   "source": [
    "print('Classification Report Tuned XGBoost : \\n', report_tuned)"
   ]
  },
  {
   "attachments": {},
   "cell_type": "markdown",
   "metadata": {},
   "source": [
    "Berdasarkan hasil classification report dari model kita, kita dapat mengambil kesimpulan bahwa bila seandainya nanti kita menggunakan model kita untuk menjadi bahan pertimbangan list nasabah yang akan kita coba tawarkan produk deposit, maka model kita dapat mengurangi pendekatan pada 74% nasabah yang tidak tertarik untuk melakukan deposit, dan model kita dapat mendapatkan 62% kandidat nasabah yang tertarik untuk melakukan deposit dari seluruh nasabah yang tertarik berdarsarkan nilai recall yang di dapat.\n",
    "\n",
    "Model kita ini memiliki ketepatan prediksi nasabah yang tertarik deposit sebesar 69% berdasarkan precision, jadi setiap model kita memprediksi bahwa seorang nasabah itu tertarik melakukan deposit, maka kemungkinan tebakannya benar itu sebesar 69%. Masih akan ada nasabah yang sebenarnya tidak tertarik tetapi diprediksi sebagai nasabah yang tertarik sekitar 38 % dari keseluruhan nasabah yang tidak tertarik berdasarkan nilai recall yang di dapat.\n",
    "\n",
    "Tentu jika model diterapkan kita dapat mengurangi biaya telemarketing dan dapat mempertimbangan strategi yang tepat untuk mendekati pelanggan.\n",
    "\n"
   ]
  },
  {
   "attachments": {},
   "cell_type": "markdown",
   "metadata": {},
   "source": [
    "#### Rekomendasi\n",
    "\n",
    "Untuk membuat model ini menjadi lebih baik adalah:\n",
    "- Menambah Fitur yang kemungkinan berpengaruh besar bagi model yang di bangun seperti : apa nasabah memiliki kredit macet atau tidak dan lain lain.\n",
    "\n",
    "- Melakukan hypeparameter tuning kembali menggunakan oversampling atau pada feature engineer data di seimbangkan menggunakan metode smote dan kemungkinan kemungkinan yang menunjang untuk membuat performa yang lebih baik."
   ]
  }
 ],
 "metadata": {
  "kernelspec": {
   "display_name": "Python 3",
   "language": "python",
   "name": "python3"
  },
  "language_info": {
   "codemirror_mode": {
    "name": "ipython",
    "version": 3
   },
   "file_extension": ".py",
   "mimetype": "text/x-python",
   "name": "python",
   "nbconvert_exporter": "python",
   "pygments_lexer": "ipython3",
   "version": "3.10.8"
  },
  "orig_nbformat": 4,
  "vscode": {
   "interpreter": {
    "hash": "df95319d8ce4e1d89f5365ae10992bc1f65da593082b1d264e8f529830ec2f02"
   }
  }
 },
 "nbformat": 4,
 "nbformat_minor": 2
}
